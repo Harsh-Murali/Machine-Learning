{
 "cells": [
  {
   "attachments": {},
   "cell_type": "markdown",
   "metadata": {},
   "source": [
    "# Decision Tree"
   ]
  },
  {
   "cell_type": "code",
   "execution_count": 34,
   "metadata": {},
   "outputs": [],
   "source": [
    "# import preprocessed data\n",
    "%run Preprocessed_Data.ipynb\n",
    "\n",
    "# change the pathology to discrete values (0, 1, 2)\n",
    "label = LabelEncoder()\n",
    "train_calc['pathology'] = label.fit_transform(train_calc['pathology'])\n",
    "test_calc['pathology'] = label.fit_transform(test_calc['pathology'])\n",
    "train_mass['pathology'] = label.fit_transform(train_mass['pathology'])\n",
    "test_mass['pathology'] = label.fit_transform(test_mass['pathology'])"
   ]
  },
  {
   "cell_type": "code",
   "execution_count": 35,
   "metadata": {},
   "outputs": [],
   "source": [
    "import sklearn.tree as tree\n",
    "import graphviz"
   ]
  },
  {
   "attachments": {},
   "cell_type": "markdown",
   "metadata": {},
   "source": [
    "## Calc Models for 'overall BI-RADS assessment'"
   ]
  },
  {
   "cell_type": "code",
   "execution_count": 56,
   "metadata": {},
   "outputs": [
    {
     "name": "stdout",
     "output_type": "stream",
     "text": [
      "Score Against Training Data:  0.924886191198786\n",
      "Score Against Test Data:  0.6678700361010831\n"
     ]
    }
   ],
   "source": [
    "# Decision Tree with no pruning\n",
    "assessment_calc = tree.DecisionTreeClassifier(criterion='entropy')\n",
    "assessment_calc = assessment_calc.fit(train_calc.drop(['pathology', 'overall BI-RADS assessment'], axis=1), train_calc['overall BI-RADS assessment'])\n",
    "\n",
    "print('Score Against Training Data: ', assessment_calc.score(train_calc.drop(['pathology', 'overall BI-RADS assessment'], axis=1), train_calc['overall BI-RADS assessment']))\n",
    "print('Score Against Test Data: ', assessment_calc.score(test_calc.drop(['pathology', 'overall BI-RADS assessment'], axis=1), test_calc['overall BI-RADS assessment']))"
   ]
  },
  {
   "cell_type": "code",
   "execution_count": 59,
   "metadata": {},
   "outputs": [
    {
     "name": "stdout",
     "output_type": "stream",
     "text": [
      "Number of Leaves:  153\n",
      "Depth of Tree:  15\n"
     ]
    }
   ],
   "source": [
    "# print tree information\n",
    "print(\"Number of Leaves: \", assessment_calc.get_n_leaves())\n",
    "print(\"Depth of Tree: \", assessment_calc.get_depth())"
   ]
  },
  {
   "cell_type": "code",
   "execution_count": 61,
   "metadata": {},
   "outputs": [
    {
     "data": {
      "text/plain": [
       "'calc_tree.pdf'"
      ]
     },
     "execution_count": 61,
     "metadata": {},
     "output_type": "execute_result"
    }
   ],
   "source": [
    "# export the tree to a pdf file\n",
    "graph = tree.export_graphviz(assessment_calc, out_file=None, feature_names=train_calc.drop(['pathology', 'overall BI-RADS assessment'], axis=1).columns, class_names=['1', '2', '3', '4', '5'], filled=True, rounded=True, special_characters=True)\n",
    "graph = graphviz.Source(graph)\n",
    "graph.render('calc_tree')"
   ]
  },
  {
   "cell_type": "code",
   "execution_count": 77,
   "metadata": {},
   "outputs": [
    {
     "name": "stdout",
     "output_type": "stream",
     "text": [
      "Score Against Training Data:  0.8437025796661608\n",
      "Score Against Test Data:  0.6768953068592057\n"
     ]
    }
   ],
   "source": [
    "# Decision Tree with pruning\n",
    "assessment_calc_pruned = tree.DecisionTreeClassifier(criterion='entropy', min_samples_leaf=10, max_depth=5)\n",
    "assessment_calc_pruned = assessment_calc_pruned.fit(train_calc.drop(['pathology', 'overall BI-RADS assessment'], axis=1), train_calc['overall BI-RADS assessment'])\n",
    "\n",
    "print('Score Against Training Data: ', assessment_calc_pruned.score(train_calc.drop(['pathology', 'overall BI-RADS assessment'], axis=1), train_calc['overall BI-RADS assessment']))\n",
    "print('Score Against Test Data: ', assessment_calc_pruned.score(test_calc.drop(['pathology', 'overall BI-RADS assessment'], axis=1), test_calc['overall BI-RADS assessment']))"
   ]
  },
  {
   "cell_type": "code",
   "execution_count": 98,
   "metadata": {},
   "outputs": [
    {
     "data": {
      "text/plain": [
       "'calc_tree_pruned.pdf'"
      ]
     },
     "execution_count": 98,
     "metadata": {},
     "output_type": "execute_result"
    }
   ],
   "source": [
    "# export the tree to a pdf file\n",
    "graph = tree.export_graphviz(assessment_calc_pruned, out_file=None, feature_names=train_calc.drop(['pathology', 'overall BI-RADS assessment'], axis=1).columns, class_names=['1', '2', '3', '4', '5'], filled=True, rounded=True, special_characters=True)\n",
    "graph = graphviz.Source(graph)\n",
    "graph.render('calc_tree_pruned')"
   ]
  },
  {
   "cell_type": "code",
   "execution_count": 80,
   "metadata": {},
   "outputs": [
    {
     "name": "stdout",
     "output_type": "stream",
     "text": [
      "Score Against Training Data:  0.8861911987860395\n",
      "Score Against Test Data:  0.6624548736462094\n"
     ]
    }
   ],
   "source": [
    "# Decision Tree without subtlety\n",
    "assessment_calc_no_subtlety = tree.DecisionTreeClassifier(criterion='entropy')\n",
    "assessment_calc_no_subtlety = assessment_calc_no_subtlety.fit(train_calc.drop(['pathology', 'overall BI-RADS assessment', 'subtlety'], axis=1), train_calc['overall BI-RADS assessment'])\n",
    "\n",
    "print('Score Against Training Data: ', assessment_calc_no_subtlety.score(train_calc.drop(['pathology', 'overall BI-RADS assessment', 'subtlety'], axis=1), train_calc['overall BI-RADS assessment']))\n",
    "print('Score Against Test Data: ', assessment_calc_no_subtlety.score(test_calc.drop(['pathology', 'overall BI-RADS assessment', 'subtlety'], axis=1), test_calc['overall BI-RADS assessment']))"
   ]
  },
  {
   "attachments": {},
   "cell_type": "markdown",
   "metadata": {},
   "source": [
    "Pruning and/or setting a max depth seem to have a minor benefit to score. Another way of looking at it is that having a huge/complex decision doesn't really improve prediction power over a simpler one."
   ]
  },
  {
   "attachments": {},
   "cell_type": "markdown",
   "metadata": {},
   "source": [
    "## Mass Models for 'overall BI-RADS assessment'"
   ]
  },
  {
   "cell_type": "code",
   "execution_count": 91,
   "metadata": {},
   "outputs": [
    {
     "name": "stdout",
     "output_type": "stream",
     "text": [
      "Score Against Training Data:  0.7754172989377845\n",
      "Score Against Test Data:  0.6031746031746031\n"
     ]
    }
   ],
   "source": [
    "assessment_mass = tree.DecisionTreeClassifier(criterion='entropy')\n",
    "assessment_mass = assessment_mass.fit(train_mass.drop(['pathology', 'overall BI-RADS assessment'], axis=1), train_mass['overall BI-RADS assessment'])\n",
    "\n",
    "print('Score Against Training Data: ', assessment_mass.score(train_mass.drop(['pathology', 'overall BI-RADS assessment'], axis=1), train_mass['overall BI-RADS assessment']))\n",
    "print('Score Against Test Data: ', assessment_mass.score(test_mass.drop(['pathology', 'overall BI-RADS assessment'], axis=1), test_mass['overall BI-RADS assessment']))"
   ]
  },
  {
   "cell_type": "code",
   "execution_count": 101,
   "metadata": {},
   "outputs": [
    {
     "data": {
      "text/plain": [
       "'mass_tree.pdf'"
      ]
     },
     "execution_count": 101,
     "metadata": {},
     "output_type": "execute_result"
    }
   ],
   "source": [
    "# export the tree to a pdf file\n",
    "graph = tree.export_graphviz(assessment_mass, out_file=None, feature_names=train_mass.drop(['pathology', 'overall BI-RADS assessment'], axis=1).columns, class_names=['1', '2', '3', '4', '5'], filled=True, rounded=True, special_characters=True)\n",
    "graph = graphviz.Source(graph)\n",
    "graph.render('mass_tree')"
   ]
  },
  {
   "cell_type": "code",
   "execution_count": 96,
   "metadata": {},
   "outputs": [
    {
     "name": "stdout",
     "output_type": "stream",
     "text": [
      "Score Against Training Data:  0.6206373292867982\n",
      "Score Against Test Data:  0.5978835978835979\n"
     ]
    }
   ],
   "source": [
    "# Decision Tree with pruning\n",
    "assessment_mass_pruned = tree.DecisionTreeClassifier(criterion='entropy', max_depth=5)\n",
    "assessment_mass_pruned = assessment_mass_pruned.fit(train_mass.drop(['pathology', 'overall BI-RADS assessment'], axis=1), train_mass['overall BI-RADS assessment'])\n",
    "\n",
    "print('Score Against Training Data: ', assessment_mass_pruned.score(train_mass.drop(['pathology', 'overall BI-RADS assessment'], axis=1), train_mass['overall BI-RADS assessment']))\n",
    "print('Score Against Test Data: ', assessment_mass_pruned.score(test_mass.drop(['pathology', 'overall BI-RADS assessment'], axis=1), test_mass['overall BI-RADS assessment']))"
   ]
  },
  {
   "cell_type": "code",
   "execution_count": 97,
   "metadata": {},
   "outputs": [
    {
     "ename": "IndexError",
     "evalue": "list index out of range",
     "output_type": "error",
     "traceback": [
      "\u001b[1;31m---------------------------------------------------------------------------\u001b[0m",
      "\u001b[1;31mIndexError\u001b[0m                                Traceback (most recent call last)",
      "Cell \u001b[1;32mIn[97], line 2\u001b[0m\n\u001b[0;32m      1\u001b[0m \u001b[39m# export the tree to a pdf file\u001b[39;00m\n\u001b[1;32m----> 2\u001b[0m graph \u001b[39m=\u001b[39m tree\u001b[39m.\u001b[39;49mexport_graphviz(assessment_mass_pruned, out_file\u001b[39m=\u001b[39;49m\u001b[39mNone\u001b[39;49;00m, feature_names\u001b[39m=\u001b[39;49mtrain_mass\u001b[39m.\u001b[39;49mdrop([\u001b[39m'\u001b[39;49m\u001b[39mpathology\u001b[39;49m\u001b[39m'\u001b[39;49m, \u001b[39m'\u001b[39;49m\u001b[39moverall BI-RADS assessment\u001b[39;49m\u001b[39m'\u001b[39;49m], axis\u001b[39m=\u001b[39;49m\u001b[39m1\u001b[39;49m)\u001b[39m.\u001b[39;49mcolumns, class_names\u001b[39m=\u001b[39;49m[\u001b[39m'\u001b[39;49m\u001b[39m1\u001b[39;49m\u001b[39m'\u001b[39;49m, \u001b[39m'\u001b[39;49m\u001b[39m2\u001b[39;49m\u001b[39m'\u001b[39;49m, \u001b[39m'\u001b[39;49m\u001b[39m3\u001b[39;49m\u001b[39m'\u001b[39;49m, \u001b[39m'\u001b[39;49m\u001b[39m4\u001b[39;49m\u001b[39m'\u001b[39;49m, \u001b[39m'\u001b[39;49m\u001b[39m5\u001b[39;49m\u001b[39m'\u001b[39;49m], filled\u001b[39m=\u001b[39;49m\u001b[39mTrue\u001b[39;49;00m, rounded\u001b[39m=\u001b[39;49m\u001b[39mTrue\u001b[39;49;00m, special_characters\u001b[39m=\u001b[39;49m\u001b[39mTrue\u001b[39;49;00m)\n\u001b[0;32m      3\u001b[0m graph \u001b[39m=\u001b[39m graphviz\u001b[39m.\u001b[39mSource(graph)\n\u001b[0;32m      4\u001b[0m graph\u001b[39m.\u001b[39mrender(\u001b[39m'\u001b[39m\u001b[39mmass_tree_pruned\u001b[39m\u001b[39m'\u001b[39m)\n",
      "File \u001b[1;32mc:\\Program Files\\Python39\\lib\\site-packages\\sklearn\\tree\\_export.py:888\u001b[0m, in \u001b[0;36mexport_graphviz\u001b[1;34m(decision_tree, out_file, max_depth, feature_names, class_names, label, filled, leaves_parallel, impurity, node_ids, proportion, rotate, rounded, special_characters, precision, fontname)\u001b[0m\n\u001b[0;32m    869\u001b[0m     out_file \u001b[39m=\u001b[39m StringIO()\n\u001b[0;32m    871\u001b[0m exporter \u001b[39m=\u001b[39m _DOTTreeExporter(\n\u001b[0;32m    872\u001b[0m     out_file\u001b[39m=\u001b[39mout_file,\n\u001b[0;32m    873\u001b[0m     max_depth\u001b[39m=\u001b[39mmax_depth,\n\u001b[1;32m   (...)\u001b[0m\n\u001b[0;32m    886\u001b[0m     fontname\u001b[39m=\u001b[39mfontname,\n\u001b[0;32m    887\u001b[0m )\n\u001b[1;32m--> 888\u001b[0m exporter\u001b[39m.\u001b[39;49mexport(decision_tree)\n\u001b[0;32m    890\u001b[0m \u001b[39mif\u001b[39;00m return_string:\n\u001b[0;32m    891\u001b[0m     \u001b[39mreturn\u001b[39;00m exporter\u001b[39m.\u001b[39mout_file\u001b[39m.\u001b[39mgetvalue()\n",
      "File \u001b[1;32mc:\\Program Files\\Python39\\lib\\site-packages\\sklearn\\tree\\_export.py:461\u001b[0m, in \u001b[0;36m_DOTTreeExporter.export\u001b[1;34m(self, decision_tree)\u001b[0m\n\u001b[0;32m    459\u001b[0m     \u001b[39mself\u001b[39m\u001b[39m.\u001b[39mrecurse(decision_tree, \u001b[39m0\u001b[39m, criterion\u001b[39m=\u001b[39m\u001b[39m\"\u001b[39m\u001b[39mimpurity\u001b[39m\u001b[39m\"\u001b[39m)\n\u001b[0;32m    460\u001b[0m \u001b[39melse\u001b[39;00m:\n\u001b[1;32m--> 461\u001b[0m     \u001b[39mself\u001b[39;49m\u001b[39m.\u001b[39;49mrecurse(decision_tree\u001b[39m.\u001b[39;49mtree_, \u001b[39m0\u001b[39;49m, criterion\u001b[39m=\u001b[39;49mdecision_tree\u001b[39m.\u001b[39;49mcriterion)\n\u001b[0;32m    463\u001b[0m \u001b[39mself\u001b[39m\u001b[39m.\u001b[39mtail()\n",
      "File \u001b[1;32mc:\\Program Files\\Python39\\lib\\site-packages\\sklearn\\tree\\_export.py:543\u001b[0m, in \u001b[0;36m_DOTTreeExporter.recurse\u001b[1;34m(self, tree, node_id, criterion, parent, depth)\u001b[0m\n\u001b[0;32m    540\u001b[0m         \u001b[39mself\u001b[39m\u001b[39m.\u001b[39mout_file\u001b[39m.\u001b[39mwrite(\u001b[39m\"\u001b[39m\u001b[39m ;\u001b[39m\u001b[39m\\n\u001b[39;00m\u001b[39m\"\u001b[39m)\n\u001b[0;32m    542\u001b[0m     \u001b[39mif\u001b[39;00m left_child \u001b[39m!=\u001b[39m _tree\u001b[39m.\u001b[39mTREE_LEAF:\n\u001b[1;32m--> 543\u001b[0m         \u001b[39mself\u001b[39;49m\u001b[39m.\u001b[39;49mrecurse(\n\u001b[0;32m    544\u001b[0m             tree,\n\u001b[0;32m    545\u001b[0m             left_child,\n\u001b[0;32m    546\u001b[0m             criterion\u001b[39m=\u001b[39;49mcriterion,\n\u001b[0;32m    547\u001b[0m             parent\u001b[39m=\u001b[39;49mnode_id,\n\u001b[0;32m    548\u001b[0m             depth\u001b[39m=\u001b[39;49mdepth \u001b[39m+\u001b[39;49m \u001b[39m1\u001b[39;49m,\n\u001b[0;32m    549\u001b[0m         )\n\u001b[0;32m    550\u001b[0m         \u001b[39mself\u001b[39m\u001b[39m.\u001b[39mrecurse(\n\u001b[0;32m    551\u001b[0m             tree,\n\u001b[0;32m    552\u001b[0m             right_child,\n\u001b[1;32m   (...)\u001b[0m\n\u001b[0;32m    555\u001b[0m             depth\u001b[39m=\u001b[39mdepth \u001b[39m+\u001b[39m \u001b[39m1\u001b[39m,\n\u001b[0;32m    556\u001b[0m         )\n\u001b[0;32m    558\u001b[0m \u001b[39melse\u001b[39;00m:\n",
      "File \u001b[1;32mc:\\Program Files\\Python39\\lib\\site-packages\\sklearn\\tree\\_export.py:543\u001b[0m, in \u001b[0;36m_DOTTreeExporter.recurse\u001b[1;34m(self, tree, node_id, criterion, parent, depth)\u001b[0m\n\u001b[0;32m    540\u001b[0m         \u001b[39mself\u001b[39m\u001b[39m.\u001b[39mout_file\u001b[39m.\u001b[39mwrite(\u001b[39m\"\u001b[39m\u001b[39m ;\u001b[39m\u001b[39m\\n\u001b[39;00m\u001b[39m\"\u001b[39m)\n\u001b[0;32m    542\u001b[0m     \u001b[39mif\u001b[39;00m left_child \u001b[39m!=\u001b[39m _tree\u001b[39m.\u001b[39mTREE_LEAF:\n\u001b[1;32m--> 543\u001b[0m         \u001b[39mself\u001b[39;49m\u001b[39m.\u001b[39;49mrecurse(\n\u001b[0;32m    544\u001b[0m             tree,\n\u001b[0;32m    545\u001b[0m             left_child,\n\u001b[0;32m    546\u001b[0m             criterion\u001b[39m=\u001b[39;49mcriterion,\n\u001b[0;32m    547\u001b[0m             parent\u001b[39m=\u001b[39;49mnode_id,\n\u001b[0;32m    548\u001b[0m             depth\u001b[39m=\u001b[39;49mdepth \u001b[39m+\u001b[39;49m \u001b[39m1\u001b[39;49m,\n\u001b[0;32m    549\u001b[0m         )\n\u001b[0;32m    550\u001b[0m         \u001b[39mself\u001b[39m\u001b[39m.\u001b[39mrecurse(\n\u001b[0;32m    551\u001b[0m             tree,\n\u001b[0;32m    552\u001b[0m             right_child,\n\u001b[1;32m   (...)\u001b[0m\n\u001b[0;32m    555\u001b[0m             depth\u001b[39m=\u001b[39mdepth \u001b[39m+\u001b[39m \u001b[39m1\u001b[39m,\n\u001b[0;32m    556\u001b[0m         )\n\u001b[0;32m    558\u001b[0m \u001b[39melse\u001b[39;00m:\n",
      "File \u001b[1;32mc:\\Program Files\\Python39\\lib\\site-packages\\sklearn\\tree\\_export.py:550\u001b[0m, in \u001b[0;36m_DOTTreeExporter.recurse\u001b[1;34m(self, tree, node_id, criterion, parent, depth)\u001b[0m\n\u001b[0;32m    542\u001b[0m     \u001b[39mif\u001b[39;00m left_child \u001b[39m!=\u001b[39m _tree\u001b[39m.\u001b[39mTREE_LEAF:\n\u001b[0;32m    543\u001b[0m         \u001b[39mself\u001b[39m\u001b[39m.\u001b[39mrecurse(\n\u001b[0;32m    544\u001b[0m             tree,\n\u001b[0;32m    545\u001b[0m             left_child,\n\u001b[1;32m   (...)\u001b[0m\n\u001b[0;32m    548\u001b[0m             depth\u001b[39m=\u001b[39mdepth \u001b[39m+\u001b[39m \u001b[39m1\u001b[39m,\n\u001b[0;32m    549\u001b[0m         )\n\u001b[1;32m--> 550\u001b[0m         \u001b[39mself\u001b[39;49m\u001b[39m.\u001b[39;49mrecurse(\n\u001b[0;32m    551\u001b[0m             tree,\n\u001b[0;32m    552\u001b[0m             right_child,\n\u001b[0;32m    553\u001b[0m             criterion\u001b[39m=\u001b[39;49mcriterion,\n\u001b[0;32m    554\u001b[0m             parent\u001b[39m=\u001b[39;49mnode_id,\n\u001b[0;32m    555\u001b[0m             depth\u001b[39m=\u001b[39;49mdepth \u001b[39m+\u001b[39;49m \u001b[39m1\u001b[39;49m,\n\u001b[0;32m    556\u001b[0m         )\n\u001b[0;32m    558\u001b[0m \u001b[39melse\u001b[39;00m:\n\u001b[0;32m    559\u001b[0m     \u001b[39mself\u001b[39m\u001b[39m.\u001b[39mranks[\u001b[39m\"\u001b[39m\u001b[39mleaves\u001b[39m\u001b[39m\"\u001b[39m]\u001b[39m.\u001b[39mappend(\u001b[39mstr\u001b[39m(node_id))\n",
      "File \u001b[1;32mc:\\Program Files\\Python39\\lib\\site-packages\\sklearn\\tree\\_export.py:543\u001b[0m, in \u001b[0;36m_DOTTreeExporter.recurse\u001b[1;34m(self, tree, node_id, criterion, parent, depth)\u001b[0m\n\u001b[0;32m    540\u001b[0m         \u001b[39mself\u001b[39m\u001b[39m.\u001b[39mout_file\u001b[39m.\u001b[39mwrite(\u001b[39m\"\u001b[39m\u001b[39m ;\u001b[39m\u001b[39m\\n\u001b[39;00m\u001b[39m\"\u001b[39m)\n\u001b[0;32m    542\u001b[0m     \u001b[39mif\u001b[39;00m left_child \u001b[39m!=\u001b[39m _tree\u001b[39m.\u001b[39mTREE_LEAF:\n\u001b[1;32m--> 543\u001b[0m         \u001b[39mself\u001b[39;49m\u001b[39m.\u001b[39;49mrecurse(\n\u001b[0;32m    544\u001b[0m             tree,\n\u001b[0;32m    545\u001b[0m             left_child,\n\u001b[0;32m    546\u001b[0m             criterion\u001b[39m=\u001b[39;49mcriterion,\n\u001b[0;32m    547\u001b[0m             parent\u001b[39m=\u001b[39;49mnode_id,\n\u001b[0;32m    548\u001b[0m             depth\u001b[39m=\u001b[39;49mdepth \u001b[39m+\u001b[39;49m \u001b[39m1\u001b[39;49m,\n\u001b[0;32m    549\u001b[0m         )\n\u001b[0;32m    550\u001b[0m         \u001b[39mself\u001b[39m\u001b[39m.\u001b[39mrecurse(\n\u001b[0;32m    551\u001b[0m             tree,\n\u001b[0;32m    552\u001b[0m             right_child,\n\u001b[1;32m   (...)\u001b[0m\n\u001b[0;32m    555\u001b[0m             depth\u001b[39m=\u001b[39mdepth \u001b[39m+\u001b[39m \u001b[39m1\u001b[39m,\n\u001b[0;32m    556\u001b[0m         )\n\u001b[0;32m    558\u001b[0m \u001b[39melse\u001b[39;00m:\n",
      "File \u001b[1;32mc:\\Program Files\\Python39\\lib\\site-packages\\sklearn\\tree\\_export.py:550\u001b[0m, in \u001b[0;36m_DOTTreeExporter.recurse\u001b[1;34m(self, tree, node_id, criterion, parent, depth)\u001b[0m\n\u001b[0;32m    542\u001b[0m     \u001b[39mif\u001b[39;00m left_child \u001b[39m!=\u001b[39m _tree\u001b[39m.\u001b[39mTREE_LEAF:\n\u001b[0;32m    543\u001b[0m         \u001b[39mself\u001b[39m\u001b[39m.\u001b[39mrecurse(\n\u001b[0;32m    544\u001b[0m             tree,\n\u001b[0;32m    545\u001b[0m             left_child,\n\u001b[1;32m   (...)\u001b[0m\n\u001b[0;32m    548\u001b[0m             depth\u001b[39m=\u001b[39mdepth \u001b[39m+\u001b[39m \u001b[39m1\u001b[39m,\n\u001b[0;32m    549\u001b[0m         )\n\u001b[1;32m--> 550\u001b[0m         \u001b[39mself\u001b[39;49m\u001b[39m.\u001b[39;49mrecurse(\n\u001b[0;32m    551\u001b[0m             tree,\n\u001b[0;32m    552\u001b[0m             right_child,\n\u001b[0;32m    553\u001b[0m             criterion\u001b[39m=\u001b[39;49mcriterion,\n\u001b[0;32m    554\u001b[0m             parent\u001b[39m=\u001b[39;49mnode_id,\n\u001b[0;32m    555\u001b[0m             depth\u001b[39m=\u001b[39;49mdepth \u001b[39m+\u001b[39;49m \u001b[39m1\u001b[39;49m,\n\u001b[0;32m    556\u001b[0m         )\n\u001b[0;32m    558\u001b[0m \u001b[39melse\u001b[39;00m:\n\u001b[0;32m    559\u001b[0m     \u001b[39mself\u001b[39m\u001b[39m.\u001b[39mranks[\u001b[39m\"\u001b[39m\u001b[39mleaves\u001b[39m\u001b[39m\"\u001b[39m]\u001b[39m.\u001b[39mappend(\u001b[39mstr\u001b[39m(node_id))\n",
      "File \u001b[1;32mc:\\Program Files\\Python39\\lib\\site-packages\\sklearn\\tree\\_export.py:520\u001b[0m, in \u001b[0;36m_DOTTreeExporter.recurse\u001b[1;34m(self, tree, node_id, criterion, parent, depth)\u001b[0m\n\u001b[0;32m    516\u001b[0m \u001b[39melse\u001b[39;00m:\n\u001b[0;32m    517\u001b[0m     \u001b[39mself\u001b[39m\u001b[39m.\u001b[39mranks[\u001b[39mstr\u001b[39m(depth)]\u001b[39m.\u001b[39mappend(\u001b[39mstr\u001b[39m(node_id))\n\u001b[0;32m    519\u001b[0m \u001b[39mself\u001b[39m\u001b[39m.\u001b[39mout_file\u001b[39m.\u001b[39mwrite(\n\u001b[1;32m--> 520\u001b[0m     \u001b[39m\"\u001b[39m\u001b[39m%d\u001b[39;00m\u001b[39m [label=\u001b[39m\u001b[39m%s\u001b[39;00m\u001b[39m\"\u001b[39m \u001b[39m%\u001b[39m (node_id, \u001b[39mself\u001b[39;49m\u001b[39m.\u001b[39;49mnode_to_str(tree, node_id, criterion))\n\u001b[0;32m    521\u001b[0m )\n\u001b[0;32m    523\u001b[0m \u001b[39mif\u001b[39;00m \u001b[39mself\u001b[39m\u001b[39m.\u001b[39mfilled:\n\u001b[0;32m    524\u001b[0m     \u001b[39mself\u001b[39m\u001b[39m.\u001b[39mout_file\u001b[39m.\u001b[39mwrite(\n\u001b[0;32m    525\u001b[0m         \u001b[39m'\u001b[39m\u001b[39m, fillcolor=\u001b[39m\u001b[39m\"\u001b[39m\u001b[39m%s\u001b[39;00m\u001b[39m\"\u001b[39m\u001b[39m'\u001b[39m \u001b[39m%\u001b[39m \u001b[39mself\u001b[39m\u001b[39m.\u001b[39mget_fill_color(tree, node_id)\n\u001b[0;32m    526\u001b[0m     )\n",
      "File \u001b[1;32mc:\\Program Files\\Python39\\lib\\site-packages\\sklearn\\tree\\_export.py:366\u001b[0m, in \u001b[0;36m_BaseTreeExporter.node_to_str\u001b[1;34m(self, tree, node_id, criterion)\u001b[0m\n\u001b[0;32m    364\u001b[0m     node_string \u001b[39m+\u001b[39m\u001b[39m=\u001b[39m \u001b[39m\"\u001b[39m\u001b[39mclass = \u001b[39m\u001b[39m\"\u001b[39m\n\u001b[0;32m    365\u001b[0m \u001b[39mif\u001b[39;00m \u001b[39mself\u001b[39m\u001b[39m.\u001b[39mclass_names \u001b[39mis\u001b[39;00m \u001b[39mnot\u001b[39;00m \u001b[39mTrue\u001b[39;00m:\n\u001b[1;32m--> 366\u001b[0m     class_name \u001b[39m=\u001b[39m \u001b[39mself\u001b[39;49m\u001b[39m.\u001b[39;49mclass_names[np\u001b[39m.\u001b[39;49margmax(value)]\n\u001b[0;32m    367\u001b[0m \u001b[39melse\u001b[39;00m:\n\u001b[0;32m    368\u001b[0m     class_name \u001b[39m=\u001b[39m \u001b[39m\"\u001b[39m\u001b[39my\u001b[39m\u001b[39m%s\u001b[39;00m\u001b[39m%s\u001b[39;00m\u001b[39m%s\u001b[39;00m\u001b[39m\"\u001b[39m \u001b[39m%\u001b[39m (\n\u001b[0;32m    369\u001b[0m         characters[\u001b[39m1\u001b[39m],\n\u001b[0;32m    370\u001b[0m         np\u001b[39m.\u001b[39margmax(value),\n\u001b[0;32m    371\u001b[0m         characters[\u001b[39m2\u001b[39m],\n\u001b[0;32m    372\u001b[0m     )\n",
      "\u001b[1;31mIndexError\u001b[0m: list index out of range"
     ]
    }
   ],
   "source": [
    "# export the tree to a pdf file\n",
    "graph = tree.export_graphviz(assessment_mass_pruned, out_file=None, feature_names=train_mass.drop(['pathology', 'overall BI-RADS assessment'], axis=1).columns, class_names=['1', '2', '3', '4', '5'], filled=True, rounded=True, special_characters=True)\n",
    "graph = graphviz.Source(graph)\n",
    "graph.render('mass_tree_pruned')"
   ]
  },
  {
   "attachments": {},
   "cell_type": "markdown",
   "metadata": {},
   "source": [
    "## Calc Model for 'pathology'"
   ]
  },
  {
   "cell_type": "code",
   "execution_count": 89,
   "metadata": {},
   "outputs": [
    {
     "data": {
      "text/plain": [
       "0.720216606498195"
      ]
     },
     "execution_count": 89,
     "metadata": {},
     "output_type": "execute_result"
    }
   ],
   "source": [
    "model = tree.DecisionTreeClassifier()\n",
    "model.fit(train_calc.drop('pathology', axis=1), train_calc['pathology'])\n",
    "\n",
    "model.score(test_calc.drop('pathology', axis=1), test_calc['pathology'])"
   ]
  },
  {
   "cell_type": "code",
   "execution_count": 90,
   "metadata": {},
   "outputs": [
    {
     "data": {
      "text/plain": [
       "'calc_pathology_tree.pdf'"
      ]
     },
     "execution_count": 90,
     "metadata": {},
     "output_type": "execute_result"
    }
   ],
   "source": [
    "# export the tree to a pdf file\n",
    "data = tree.export_graphviz(model, out_file=None, feature_names=train_calc.drop('pathology', axis=1).columns, class_names=['benign without callback', 'benign', 'malignant'], filled=True, rounded=True, special_characters=True)\n",
    "graph = graphviz.Source(data)\n",
    "graph.render(\"calc_pathology_tree\")"
   ]
  },
  {
   "attachments": {},
   "cell_type": "markdown",
   "metadata": {},
   "source": [
    "## Mass Model for 'pathology'"
   ]
  },
  {
   "cell_type": "code",
   "execution_count": 62,
   "metadata": {},
   "outputs": [
    {
     "data": {
      "text/plain": [
       "0.708994708994709"
      ]
     },
     "execution_count": 62,
     "metadata": {},
     "output_type": "execute_result"
    }
   ],
   "source": [
    "model = tree.DecisionTreeClassifier()\n",
    "model.fit(train_mass.drop('pathology', axis=1), train_mass['pathology'])\n",
    "\n",
    "model.score(test_mass.drop('pathology', axis=1), test_mass['pathology'])"
   ]
  },
  {
   "cell_type": "code",
   "execution_count": 65,
   "metadata": {},
   "outputs": [
    {
     "data": {
      "text/plain": [
       "'mass_pathology_tree.pdf'"
      ]
     },
     "execution_count": 65,
     "metadata": {},
     "output_type": "execute_result"
    }
   ],
   "source": [
    "# export the tree to a pdf file\n",
    "data = tree.export_graphviz(model, out_file=None, feature_names=train_mass.drop('pathology', axis=1).columns, class_names=['benign without callback', 'benign', 'malignant'], filled=True, rounded=True, special_characters=True)\n",
    "graph = graphviz.Source(data)\n",
    "graph.render(\"mass_pathology_tree\")"
   ]
  }
 ],
 "metadata": {
  "kernelspec": {
   "display_name": "Python 3",
   "language": "python",
   "name": "python3"
  },
  "language_info": {
   "codemirror_mode": {
    "name": "ipython",
    "version": 3
   },
   "file_extension": ".py",
   "mimetype": "text/x-python",
   "name": "python",
   "nbconvert_exporter": "python",
   "pygments_lexer": "ipython3",
   "version": "3.9.7"
  },
  "orig_nbformat": 4,
  "vscode": {
   "interpreter": {
    "hash": "11938c6bc6919ae2720b4d5011047913343b08a43b18698fd82dedb0d4417594"
   }
  }
 },
 "nbformat": 4,
 "nbformat_minor": 2
}
