{
 "cells": [
  {
   "attachments": {},
   "cell_type": "markdown",
   "metadata": {},
   "source": [
    "# Import libraries"
   ]
  },
  {
   "cell_type": "code",
   "execution_count": 17,
   "metadata": {},
   "outputs": [],
   "source": [
    "# Import the libraries\n",
    "import pandas as pd\n",
    "from sklearn.preprocessing import LabelEncoder\n",
    "import numpy as np"
   ]
  },
  {
   "attachments": {},
   "cell_type": "markdown",
   "metadata": {},
   "source": [
    "# Read and preprocess the dataset"
   ]
  },
  {
   "cell_type": "code",
   "execution_count": 27,
   "metadata": {},
   "outputs": [],
   "source": [
    "# Import the dataset\n",
    "train_calc = pd.read_csv('calc_case_description_train_set.csv') # (1546, 14)\n",
    "test_calc = pd.read_csv('calc_case_description_test_set.csv') # (326, 14)\n",
    "train_mass = pd.read_csv('mass_case_description_train_set.csv') # (1318, 14)\n",
    "test_mass = pd.read_csv('mass_case_description_test_set.csv') # (378, 14)"
   ]
  },
  {
   "cell_type": "code",
   "execution_count": 28,
   "metadata": {},
   "outputs": [],
   "source": [
    "original = {'train_calc': train_calc, 'test_calc': test_calc, \n",
    "        'train_mass': train_mass, 'test_mass': test_mass}"
   ]
  },
  {
   "cell_type": "code",
   "execution_count": 29,
   "metadata": {},
   "outputs": [],
   "source": [
    "calc = train_calc.values.tolist() + test_calc.values.tolist()\n",
    "calc = pd.DataFrame(calc, columns = train_calc.columns)\n",
    "mass = train_mass.values.tolist() + test_mass.values.tolist()\n",
    "mass = pd.DataFrame(mass, columns = train_mass.columns)"
   ]
  },
  {
   "cell_type": "code",
   "execution_count": 6,
   "metadata": {},
   "outputs": [],
   "source": [
    "def preprocess(data):\n",
    "        # make a copy of the data to avoid SettingWithCopyWarning\n",
    "        data = data.copy()\n",
    "        \n",
    "        # set the limitations on the numerical columns\n",
    "        try:\n",
    "                data['breast density'] = data['breast density'].clip(1, 4)\n",
    "        except KeyError:\n",
    "                data['breast_density'] = data['breast_density'].clip(1, 4)\n",
    "        data['abnormality id'] = data['abnormality id'].clip(0)\n",
    "        data['assessment'] = data['assessment'].clip(0, 5)\n",
    "        data['subtlety'] = data['subtlety'].clip(1, 5)\n",
    "        \n",
    "        # change the name of index\n",
    "        data.index = data['patient_id'] + '_' + data['image view'] + '_' \\\n",
    "        + data['left or right breast'] + '_' + data['abnormality id'].astype(str)\n",
    "\n",
    "        # Remove useless columns\n",
    "        data = data[data.columns.drop(list(data.filter(regex='file path')) \n",
    "                + ['image view', 'patient_id', 'left or right breast', 'abnormality type'])]\n",
    "\n",
    "        # Fill NaN values with appropriate placeholders\n",
    "        try:\n",
    "                data['calc type'] = data['calc type'].fillna('None')\n",
    "                data['calc distribution'] = data['calc distribution'].fillna('None')\n",
    "        except KeyError:\n",
    "                data['mass shape'] = data['mass shape'].fillna('None')\n",
    "                data['mass margins'] = data['mass margins'].fillna('None')\n",
    "\n",
    "        '''\n",
    "        pathology :\n",
    "        BENIGN_WITHOUT_CALLBACK = 0\n",
    "        BENIGN = 0.5\n",
    "        MALIGNANT = 1\n",
    "        '''\n",
    "        data['pathology'] = data['pathology'].map({'BENIGN_WITHOUT_CALLBACK': 0, 'BENIGN': 0.5, 'MALIGNANT': 1})\n",
    "        \n",
    "\n",
    "        # Encode categorical features\n",
    "        le_pathology = LabelEncoder()\n",
    "        try:\n",
    "                le_type = LabelEncoder()\n",
    "                le_distribution = LabelEncoder()\n",
    "                \n",
    "                data['calc type'] = le_type.fit_transform(data['calc type'])\n",
    "                data['calc distribution'] = le_distribution.fit_transform(data['calc distribution'])\n",
    "                \n",
    "        except KeyError:\n",
    "                le_shape = LabelEncoder()\n",
    "                le_distribution = LabelEncoder()\n",
    "                \n",
    "                data['mass shape'] = le_shape.fit_transform(data['mass shape'])\n",
    "                data['mass margins'] = le_distribution.fit_transform(data['mass margins'])\n",
    "        \n",
    "        # rename columns\n",
    "        data.rename(columns={'abnormality id': 'number of abnormalities', \n",
    "                             'assessment' : 'overall BI-RADS assessment'}, inplace=True)\n",
    "        try:\n",
    "                data.rename(columns={'breast_density' : 'breast density'}, inplace=True)\n",
    "        except KeyError:\n",
    "                pass\n",
    "\n",
    "        return data"
   ]
  },
  {
   "cell_type": "code",
   "execution_count": 30,
   "metadata": {},
   "outputs": [],
   "source": [
    "calc = preprocess(calc)\n",
    "mass = preprocess(mass)\n",
    "train_calc, test_calc = calc[:train_calc.shape[0]], calc[train_calc.shape[0]:]\n",
    "train_mass, test_mass = mass[:train_mass.shape[0]], mass[train_mass.shape[0]:]"
   ]
  },
  {
   "attachments": {},
   "cell_type": "markdown",
   "metadata": {},
   "source": [
    "train_calc # (1546, 14)\n",
    "\n",
    "test_calc # (326, 14)\n",
    "\n",
    "train_mass # (1318, 14)\n",
    "\n",
    "test_mass # (378, 14)"
   ]
  },
  {
   "cell_type": "code",
   "execution_count": 31,
   "metadata": {},
   "outputs": [
    {
     "data": {
      "text/plain": [
       "(1546, 7)"
      ]
     },
     "execution_count": 31,
     "metadata": {},
     "output_type": "execute_result"
    }
   ],
   "source": [
    "train_calc.shape"
   ]
  },
  {
   "cell_type": "code",
   "execution_count": 32,
   "metadata": {},
   "outputs": [
    {
     "data": {
      "text/plain": [
       "(326, 7)"
      ]
     },
     "execution_count": 32,
     "metadata": {},
     "output_type": "execute_result"
    }
   ],
   "source": [
    "test_calc.shape"
   ]
  },
  {
   "cell_type": "code",
   "execution_count": 33,
   "metadata": {},
   "outputs": [
    {
     "data": {
      "text/plain": [
       "(1318, 7)"
      ]
     },
     "execution_count": 33,
     "metadata": {},
     "output_type": "execute_result"
    }
   ],
   "source": [
    "train_mass.shape"
   ]
  },
  {
   "cell_type": "code",
   "execution_count": 34,
   "metadata": {},
   "outputs": [
    {
     "data": {
      "text/plain": [
       "(378, 7)"
      ]
     },
     "execution_count": 34,
     "metadata": {},
     "output_type": "execute_result"
    }
   ],
   "source": [
    "test_mass.shape"
   ]
  }
 ],
 "metadata": {
  "kernelspec": {
   "display_name": "Python 3",
   "language": "python",
   "name": "python3"
  },
  "language_info": {
   "codemirror_mode": {
    "name": "ipython",
    "version": 3
   },
   "file_extension": ".py",
   "mimetype": "text/x-python",
   "name": "python",
   "nbconvert_exporter": "python",
   "pygments_lexer": "ipython3",
   "version": "3.9.13"
  },
  "orig_nbformat": 4
 },
 "nbformat": 4,
 "nbformat_minor": 2
}
