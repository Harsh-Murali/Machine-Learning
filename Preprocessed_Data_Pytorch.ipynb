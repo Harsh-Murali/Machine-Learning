{
 "cells": [
  {
   "attachments": {},
   "cell_type": "markdown",
   "metadata": {},
   "source": [
    "# Import libraries"
   ]
  },
  {
   "cell_type": "code",
   "execution_count": 8,
   "metadata": {},
   "outputs": [],
   "source": [
    "# Import the libraries\n",
    "import pandas as pd\n",
    "import numpy as np\n",
    "import torch\n",
    "import torch.nn as nn\n",
    "from torch import Dataset, DataLoader"
   ]
  },
  {
   "cell_type": "code",
   "execution_count": null,
   "metadata": {},
   "outputs": [],
   "source": [
    "device = torch.device('cude' if torch.cude.is_available() else 'cpu')"
   ]
  },
  {
   "attachments": {},
   "cell_type": "markdown",
   "metadata": {},
   "source": [
    "# Read and preprocess the dataset"
   ]
  },
  {
   "cell_type": "code",
   "execution_count": 2,
   "metadata": {},
   "outputs": [],
   "source": [
    "# Import the dataset\n",
    "train_calc = pd.read_csv('calc_case_description_train_set.csv')\n",
    "test_calc = pd.read_csv('calc_case_description_test_set.csv')\n",
    "train_mass = pd.read_csv('mass_case_description_train_set.csv')\n",
    "test_mass = pd.read_csv('mass_case_description_test_set.csv')"
   ]
  },
  {
   "cell_type": "code",
   "execution_count": 3,
   "metadata": {},
   "outputs": [],
   "source": [
    "calc = train_calc.values.tolist() + test_calc.values.tolist()\n",
    "calc = pd.DataFrame(calc, columns = train_calc.columns)\n",
    "mass = train_mass.values.tolist() + test_mass.values.tolist()\n",
    "mass = pd.DataFrame(mass, columns = train_mass.columns)"
   ]
  },
  {
   "cell_type": "code",
   "execution_count": 4,
   "metadata": {},
   "outputs": [],
   "source": [
    "# Function to create dictionaries for categorical features\n",
    "def create_embedding_dict(series):\n",
    "    unique_values = series.unique()\n",
    "    embedding_dict = {value: i for i, value in enumerate(unique_values)}\n",
    "    return embedding_dict"
   ]
  },
  {
   "cell_type": "code",
   "execution_count": 10,
   "metadata": {},
   "outputs": [],
   "source": [
    "def preprocess(data):\n",
    "        # make a copy of the data to avoid SettingWithCopyWarning\n",
    "        data = data.copy()\n",
    "        \n",
    "        # set the limitations on the numerical columns\n",
    "        try:\n",
    "                data['breast density'] = data['breast density'].clip(1, 4)\n",
    "        except KeyError:\n",
    "                data['breast_density'] = data['breast_density'].clip(1, 4)\n",
    "        data['abnormality id'] = data['abnormality id'].clip(0)\n",
    "        data['assessment'] = data['assessment'].clip(0, 5)\n",
    "        data['subtlety'] = data['subtlety'].clip(1, 5)\n",
    "        \n",
    "        # change the name of index\n",
    "        data.index = data['patient_id'] + '_' + data['image view'] + '_' \\\n",
    "        + data['left or right breast'] + '_' + data['abnormality id'].astype(str)\n",
    "\n",
    "        # Remove useless columns\n",
    "        data = data[data.columns.drop(list(data.filter(regex='file path')) \n",
    "                + ['image view', 'patient_id', 'left or right breast', 'abnormality type'])]\n",
    "\n",
    "        # Fill NaN values with appropriate placeholders\n",
    "        try:\n",
    "                data['calc type'] = data['calc type'].fillna('None')\n",
    "                data['calc distribution'] = data['calc distribution'].fillna('None')\n",
    "        except KeyError:\n",
    "                data['mass shape'] = data['mass shape'].fillna('None')\n",
    "                data['mass margins'] = data['mass margins'].fillna('None')\n",
    "        \n",
    "        '''\n",
    "        pathology :\n",
    "        BENIGN_WITHOUT_CALLBACK = 0\n",
    "        BENIGN = 0.5\n",
    "        MALIGNANT = 1\n",
    "        '''\n",
    "        data['pathology'] = data['pathology'].map({'BENIGN_WITHOUT_CALLBACK': 0, 'BENIGN': 0.5, 'MALIGNANT': 1})\n",
    "        \n",
    "        # Create embedding dictionaries for categorical features\n",
    "        # and define embedding sizes\n",
    "        \n",
    "        try:\n",
    "                calc_type_embedding_dict = create_embedding_dict(data['calc type'])\n",
    "                calc_dist_embedding_dict = create_embedding_dict(data['calc distribution'])\n",
    "                calc_type_embedding_size = len(calc_type_embedding_dict)\n",
    "                calc_dist_embedding_size = len(calc_dist_embedding_dict)\n",
    "        except KeyError:\n",
    "                mass_shape_embedding_dict = create_embedding_dict(data['mass shape'])\n",
    "                mass_margins_embedding_dict = create_embedding_dict(data['mass margins'])\n",
    "                mass_shape_embedding_size = len(mass_shape_embedding_dict)\n",
    "                mass_margins_embedding_size = len(mass_margins_embedding_dict)\n",
    "        \n",
    "        # Replace categorical values with their embedding indices        \n",
    "        \n",
    "        try:\n",
    "                data['calc type'] = data['calc type'].map(calc_type_embedding_dict)\n",
    "                data['calc distribution'] = data['calc distribution'].map(calc_dist_embedding_dict)\n",
    "        except KeyError:\n",
    "                data['mass shape'] = data['mass shape'].map(mass_shape_embedding_dict)\n",
    "                data['mass shape'] = data['mass shape'].map(mass_shape_embedding_dict)\n",
    "        \n",
    "        # rename columns\n",
    "        data.rename(columns={'abnormality id': 'number of abnormalities', \n",
    "                             'assessment' : 'overall BI-RADS assessment'}, inplace=True)\n",
    "        try:\n",
    "                data.rename(columns={'breast_density' : 'breast density'}, inplace=True)\n",
    "                # split\n",
    "                return data[:train_mass.shape[0]], data[train_mass.shape[0]:]\n",
    "        except KeyError:\n",
    "                return data[:train_calc.shape[0]], data[train_calc.shape[0]:]"
   ]
  },
  {
   "cell_type": "code",
   "execution_count": 13,
   "metadata": {},
   "outputs": [],
   "source": [
    "train_calc, test_calc = preprocess(calc)\n",
    "train_mass, test_mass = preprocess(mass)"
   ]
  },
  {
   "cell_type": "code",
   "execution_count": 14,
   "metadata": {},
   "outputs": [],
   "source": [
    "embedding_dim = 10"
   ]
  }
 ],
 "metadata": {
  "kernelspec": {
   "display_name": "Python 3",
   "language": "python",
   "name": "python3"
  },
  "language_info": {
   "codemirror_mode": {
    "name": "ipython",
    "version": 3
   },
   "file_extension": ".py",
   "mimetype": "text/x-python",
   "name": "python",
   "nbconvert_exporter": "python",
   "pygments_lexer": "ipython3",
   "version": "3.9.13"
  },
  "orig_nbformat": 4
 },
 "nbformat": 4,
 "nbformat_minor": 2
}
