{
 "cells": [
  {
   "attachments": {},
   "cell_type": "markdown",
   "metadata": {},
   "source": [
    "# Import libraries"
   ]
  },
  {
   "cell_type": "code",
   "execution_count": 26,
   "metadata": {},
   "outputs": [],
   "source": [
    "import pandas as pd\n",
    "from sklearn.model_selection import train_test_split\n",
    "from sklearn.preprocessing import LabelEncoder\n",
    "from sklearn import tree\n",
    "import torch\n",
    "import torch.nn as nn\n",
    "import torch.optim as optim\n",
    "from torch.utils.data import Dataset, DataLoader\n",
    "import numpy as np\n",
    "import matplotlib as mpl\n",
    "import matplotlib.pyplot as plt"
   ]
  },
  {
   "attachments": {},
   "cell_type": "markdown",
   "metadata": {},
   "source": [
    "# Read and preprocess the dataset"
   ]
  },
  {
   "cell_type": "code",
   "execution_count": 27,
   "metadata": {},
   "outputs": [],
   "source": [
    "# Read the datasets\n",
    "train_calc = pd.read_csv('calc_case_description_train_set.csv')\n",
    "test_calc = pd.read_csv('calc_case_description_test_set.csv')\n",
    "train_mass = pd.read_csv('mass_case_description_train_set.csv')\n",
    "test_mass = pd.read_csv('mass_case_description_test_set.csv')\n",
    "\n",
    "# Combine train and test datasets\n",
    "calc = pd.concat([train_calc, train_calc], axis=0)\n",
    "mass = pd.concat([train_mass, test_mass], axis=0)"
   ]
  },
  {
   "cell_type": "code",
   "execution_count": 28,
   "metadata": {},
   "outputs": [
    {
     "name": "stderr",
     "output_type": "stream",
     "text": [
      "C:\\Users\\teewi\\AppData\\Local\\Temp\\ipykernel_25616\\3867711381.py:1: FutureWarning: The default value of numeric_only in DataFrame.mean is deprecated. In a future version, it will default to False. In addition, specifying 'numeric_only=None' is deprecated. Select only valid columns or specify the value of numeric_only to silence this warning.\n",
      "  mean_calc = calc.mean()\n",
      "C:\\Users\\teewi\\AppData\\Local\\Temp\\ipykernel_25616\\3867711381.py:2: FutureWarning: The default value of numeric_only in DataFrame.std is deprecated. In a future version, it will default to False. In addition, specifying 'numeric_only=None' is deprecated. Select only valid columns or specify the value of numeric_only to silence this warning.\n",
      "  std_calc = calc.std()\n",
      "C:\\Users\\teewi\\AppData\\Local\\Temp\\ipykernel_25616\\3867711381.py:4: FutureWarning: The default value of numeric_only in DataFrame.mean is deprecated. In a future version, it will default to False. In addition, specifying 'numeric_only=None' is deprecated. Select only valid columns or specify the value of numeric_only to silence this warning.\n",
      "  mean_mass = mass.mean()\n",
      "C:\\Users\\teewi\\AppData\\Local\\Temp\\ipykernel_25616\\3867711381.py:5: FutureWarning: The default value of numeric_only in DataFrame.std is deprecated. In a future version, it will default to False. In addition, specifying 'numeric_only=None' is deprecated. Select only valid columns or specify the value of numeric_only to silence this warning.\n",
      "  std_mass = mass.std()\n"
     ]
    }
   ],
   "source": [
    "mean_calc = calc.mean()\n",
    "std_calc = calc.std()\n",
    "\n",
    "mean_mass = mass.mean()\n",
    "std_mass = mass.std()"
   ]
  },
  {
   "cell_type": "code",
   "execution_count": 29,
   "metadata": {},
   "outputs": [
    {
     "data": {
      "text/plain": [
       "Index(['patient_id', 'breast density', 'left or right breast', 'image view',\n",
       "       'abnormality id', 'abnormality type', 'calc type', 'calc distribution',\n",
       "       'assessment', 'pathology', 'subtlety', 'image file path',\n",
       "       'cropped image file path', 'ROI mask file path'],\n",
       "      dtype='object')"
      ]
     },
     "execution_count": 29,
     "metadata": {},
     "output_type": "execute_result"
    }
   ],
   "source": [
    "calc.keys()"
   ]
  },
  {
   "cell_type": "code",
   "execution_count": 30,
   "metadata": {},
   "outputs": [
    {
     "data": {
      "text/plain": [
       "Index(['patient_id', 'breast_density', 'left or right breast', 'image view',\n",
       "       'abnormality id', 'abnormality type', 'mass shape', 'mass margins',\n",
       "       'assessment', 'pathology', 'subtlety', 'image file path',\n",
       "       'cropped image file path', 'ROI mask file path'],\n",
       "      dtype='object')"
      ]
     },
     "execution_count": 30,
     "metadata": {},
     "output_type": "execute_result"
    }
   ],
   "source": [
    "mass.keys()"
   ]
  },
  {
   "cell_type": "code",
   "execution_count": 31,
   "metadata": {},
   "outputs": [],
   "source": [
    "def preprocess(data):\n",
    "        # make a copy of the data to avoid SettingWithCopyWarning\n",
    "        data = data.copy()\n",
    "        \n",
    "        # set the limitations on the numerical columns\n",
    "        try:\n",
    "                data['breast density'] = data['breast density'].clip(1, 4)\n",
    "        except KeyError:\n",
    "                data['breast_density'] = data['breast_density'].clip(1, 4)\n",
    "        data['abnormality id'] = data['abnormality id'].clip(0)\n",
    "        data['assessment'] = data['assessment'].clip(0, 5)\n",
    "        data['subtlety'] = data['subtlety'].clip(1, 5)\n",
    "        \n",
    "        # change the name of index\n",
    "        data.index = data['patient_id'] + '_' + data['image view'] + '_' \\\n",
    "        + data['left or right breast'] + '_' + data['abnormality id'].astype(str)\n",
    "\n",
    "        # Remove useless columns\n",
    "        data = data[data.columns.drop(list(data.filter(regex='file path')) \n",
    "                + ['image view', 'patient_id', 'left or right breast', 'abnormality type'])]\n",
    "\n",
    "        # Fill NaN values with appropriate placeholders\n",
    "        try:\n",
    "                data['calc type'] = data['calc type'].fillna('None')\n",
    "                data['calc distribution'] = data['calc distribution'].fillna('None')\n",
    "        except KeyError:\n",
    "                data['mass shape'] = data['mass shape'].fillna('None')\n",
    "                data['mass margins'] = data['mass margins'].fillna('None')\n",
    "\n",
    "        # Encode categorical features\n",
    "        le_pathology = LabelEncoder()\n",
    "        try:\n",
    "                le_type = LabelEncoder()\n",
    "                le_distribution = LabelEncoder()\n",
    "                \n",
    "                data['calc type'] = le_type.fit_transform(data['calc type'])\n",
    "                data['calc distribution'] = le_distribution.fit_transform(data['calc distribution'])\n",
    "                \n",
    "        except KeyError:\n",
    "                le_shape = LabelEncoder()\n",
    "                le_distribution = LabelEncoder()\n",
    "                \n",
    "                data['mass shape'] = le_shape.fit_transform(data['mass shape'])\n",
    "                data['mass margins'] = le_distribution.fit_transform(data['mass margins'])\n",
    "        data['pathology'] = le_pathology.fit_transform(data['pathology'])\n",
    "        \n",
    "        # rename columns\n",
    "        data.rename(columns={'abnormality id': 'number of abnormality', \n",
    "                             'assessment' : 'overall BI-RADS assessment'}, inplace=True)\n",
    "        try:\n",
    "                data.rename(columns={'breast_density' : 'breast density'}, inplace=True)\n",
    "        except KeyError:\n",
    "                pass\n",
    "\n",
    "        # Split the data back into train and test datasets\n",
    "        return train_test_split(data, test_size=0.2, random_state=42)\n",
    "\n",
    "# Split the data back into train and test datasets\n",
    "train_calc, test_calc = preprocess(calc)\n",
    "train_mass, test_mass = preprocess(mass)"
   ]
  },
  {
   "cell_type": "code",
   "execution_count": 32,
   "metadata": {},
   "outputs": [
    {
     "data": {
      "text/html": [
       "<div>\n",
       "<style scoped>\n",
       "    .dataframe tbody tr th:only-of-type {\n",
       "        vertical-align: middle;\n",
       "    }\n",
       "\n",
       "    .dataframe tbody tr th {\n",
       "        vertical-align: top;\n",
       "    }\n",
       "\n",
       "    .dataframe thead th {\n",
       "        text-align: right;\n",
       "    }\n",
       "</style>\n",
       "<table border=\"1\" class=\"dataframe\">\n",
       "  <thead>\n",
       "    <tr style=\"text-align: right;\">\n",
       "      <th></th>\n",
       "      <th>breast density</th>\n",
       "      <th>number of abnormality</th>\n",
       "      <th>calc type</th>\n",
       "      <th>calc distribution</th>\n",
       "      <th>overall BI-RADS assessment</th>\n",
       "      <th>pathology</th>\n",
       "      <th>subtlety</th>\n",
       "    </tr>\n",
       "  </thead>\n",
       "  <tbody>\n",
       "    <tr>\n",
       "      <th>P_00150_MLO_RIGHT_1</th>\n",
       "      <td>3</td>\n",
       "      <td>1</td>\n",
       "      <td>10</td>\n",
       "      <td>0</td>\n",
       "      <td>4</td>\n",
       "      <td>2</td>\n",
       "      <td>2</td>\n",
       "    </tr>\n",
       "    <tr>\n",
       "      <th>P_02153_MLO_RIGHT_1</th>\n",
       "      <td>2</td>\n",
       "      <td>1</td>\n",
       "      <td>0</td>\n",
       "      <td>0</td>\n",
       "      <td>0</td>\n",
       "      <td>0</td>\n",
       "      <td>2</td>\n",
       "    </tr>\n",
       "    <tr>\n",
       "      <th>P_00202_MLO_RIGHT_2</th>\n",
       "      <td>1</td>\n",
       "      <td>2</td>\n",
       "      <td>10</td>\n",
       "      <td>1</td>\n",
       "      <td>5</td>\n",
       "      <td>2</td>\n",
       "      <td>5</td>\n",
       "    </tr>\n",
       "  </tbody>\n",
       "</table>\n",
       "</div>"
      ],
      "text/plain": [
       "                     breast density  number of abnormality  calc type  \\\n",
       "P_00150_MLO_RIGHT_1               3                      1         10   \n",
       "P_02153_MLO_RIGHT_1               2                      1          0   \n",
       "P_00202_MLO_RIGHT_2               1                      2         10   \n",
       "\n",
       "                     calc distribution  overall BI-RADS assessment  pathology  \\\n",
       "P_00150_MLO_RIGHT_1                  0                           4          2   \n",
       "P_02153_MLO_RIGHT_1                  0                           0          0   \n",
       "P_00202_MLO_RIGHT_2                  1                           5          2   \n",
       "\n",
       "                     subtlety  \n",
       "P_00150_MLO_RIGHT_1         2  \n",
       "P_02153_MLO_RIGHT_1         2  \n",
       "P_00202_MLO_RIGHT_2         5  "
      ]
     },
     "execution_count": 32,
     "metadata": {},
     "output_type": "execute_result"
    }
   ],
   "source": [
    "train_calc[:3]"
   ]
  },
  {
   "cell_type": "code",
   "execution_count": 33,
   "metadata": {},
   "outputs": [
    {
     "data": {
      "text/html": [
       "<div>\n",
       "<style scoped>\n",
       "    .dataframe tbody tr th:only-of-type {\n",
       "        vertical-align: middle;\n",
       "    }\n",
       "\n",
       "    .dataframe tbody tr th {\n",
       "        vertical-align: top;\n",
       "    }\n",
       "\n",
       "    .dataframe thead th {\n",
       "        text-align: right;\n",
       "    }\n",
       "</style>\n",
       "<table border=\"1\" class=\"dataframe\">\n",
       "  <thead>\n",
       "    <tr style=\"text-align: right;\">\n",
       "      <th></th>\n",
       "      <th>breast density</th>\n",
       "      <th>number of abnormality</th>\n",
       "      <th>mass shape</th>\n",
       "      <th>mass margins</th>\n",
       "      <th>overall BI-RADS assessment</th>\n",
       "      <th>pathology</th>\n",
       "      <th>subtlety</th>\n",
       "    </tr>\n",
       "  </thead>\n",
       "  <tbody>\n",
       "    <tr>\n",
       "      <th>P_01178_CC_RIGHT_1</th>\n",
       "      <td>3</td>\n",
       "      <td>1</td>\n",
       "      <td>14</td>\n",
       "      <td>7</td>\n",
       "      <td>4</td>\n",
       "      <td>0</td>\n",
       "      <td>3</td>\n",
       "    </tr>\n",
       "    <tr>\n",
       "      <th>P_00711_MLO_RIGHT_1</th>\n",
       "      <td>2</td>\n",
       "      <td>1</td>\n",
       "      <td>17</td>\n",
       "      <td>0</td>\n",
       "      <td>2</td>\n",
       "      <td>0</td>\n",
       "      <td>3</td>\n",
       "    </tr>\n",
       "    <tr>\n",
       "      <th>P_00673_MLO_RIGHT_1</th>\n",
       "      <td>1</td>\n",
       "      <td>1</td>\n",
       "      <td>16</td>\n",
       "      <td>0</td>\n",
       "      <td>2</td>\n",
       "      <td>1</td>\n",
       "      <td>4</td>\n",
       "    </tr>\n",
       "  </tbody>\n",
       "</table>\n",
       "</div>"
      ],
      "text/plain": [
       "                     breast density  number of abnormality  mass shape  \\\n",
       "P_01178_CC_RIGHT_1                3                      1          14   \n",
       "P_00711_MLO_RIGHT_1               2                      1          17   \n",
       "P_00673_MLO_RIGHT_1               1                      1          16   \n",
       "\n",
       "                     mass margins  overall BI-RADS assessment  pathology  \\\n",
       "P_01178_CC_RIGHT_1              7                           4          0   \n",
       "P_00711_MLO_RIGHT_1             0                           2          0   \n",
       "P_00673_MLO_RIGHT_1             0                           2          1   \n",
       "\n",
       "                     subtlety  \n",
       "P_01178_CC_RIGHT_1          3  \n",
       "P_00711_MLO_RIGHT_1         3  \n",
       "P_00673_MLO_RIGHT_1         4  "
      ]
     },
     "execution_count": 33,
     "metadata": {},
     "output_type": "execute_result"
    }
   ],
   "source": [
    "train_mass[:3]"
   ]
  },
  {
   "cell_type": "code",
   "execution_count": 41,
   "metadata": {},
   "outputs": [
    {
     "data": {
      "text/plain": [
       "[Text(0.4107142857142857, 0.9705882352941176, 'x[4] <= 2.5\\ngini = 0.645\\nsamples = 521\\nvalue = [201, 111, 209]'),\n",
       " Text(0.12987012987012986, 0.9117647058823529, 'x[4] <= 1.0\\ngini = 0.332\\nsamples = 138\\nvalue = [18, 111, 9]'),\n",
       " Text(0.07792207792207792, 0.8529411764705882, 'x[5] <= 3.5\\ngini = 0.495\\nsamples = 20\\nvalue = [11, 0, 9]'),\n",
       " Text(0.05194805194805195, 0.7941176470588235, 'x[2] <= 5.0\\ngini = 0.391\\nsamples = 15\\nvalue = [11, 0, 4]'),\n",
       " Text(0.025974025974025976, 0.7352941176470589, 'gini = 0.0\\nsamples = 6\\nvalue = [6, 0, 0]'),\n",
       " Text(0.07792207792207792, 0.7352941176470589, 'x[0] <= 3.5\\ngini = 0.494\\nsamples = 9\\nvalue = [5, 0, 4]'),\n",
       " Text(0.05194805194805195, 0.6764705882352942, 'gini = 0.0\\nsamples = 4\\nvalue = [0, 0, 4]'),\n",
       " Text(0.1038961038961039, 0.6764705882352942, 'gini = 0.0\\nsamples = 5\\nvalue = [5, 0, 0]'),\n",
       " Text(0.1038961038961039, 0.7941176470588235, 'gini = 0.0\\nsamples = 5\\nvalue = [0, 0, 5]'),\n",
       " Text(0.18181818181818182, 0.8529411764705882, 'x[3] <= 6.0\\ngini = 0.112\\nsamples = 118\\nvalue = [7, 111, 0]'),\n",
       " Text(0.15584415584415584, 0.7941176470588235, 'gini = 0.0\\nsamples = 111\\nvalue = [0, 111, 0]'),\n",
       " Text(0.2077922077922078, 0.7941176470588235, 'gini = 0.0\\nsamples = 7\\nvalue = [7, 0, 0]'),\n",
       " Text(0.6915584415584416, 0.9117647058823529, 'x[4] <= 4.5\\ngini = 0.499\\nsamples = 383\\nvalue = [183, 0, 200]'),\n",
       " Text(0.6655844155844156, 0.8529411764705882, 'x[5] <= 3.5\\ngini = 0.49\\nsamples = 321\\nvalue = [183, 0, 138]'),\n",
       " Text(0.43506493506493504, 0.7941176470588235, 'x[2] <= 0.5\\ngini = 0.5\\nsamples = 245\\nvalue = [119, 0, 126]'),\n",
       " Text(0.2077922077922078, 0.7352941176470589, 'x[4] <= 3.5\\ngini = 0.33\\nsamples = 48\\nvalue = [38, 0, 10]'),\n",
       " Text(0.15584415584415584, 0.6764705882352942, 'x[3] <= 3.5\\ngini = 0.469\\nsamples = 8\\nvalue = [3, 0, 5]'),\n",
       " Text(0.12987012987012986, 0.6176470588235294, 'gini = 0.48\\nsamples = 5\\nvalue = [3, 0, 2]'),\n",
       " Text(0.18181818181818182, 0.6176470588235294, 'gini = 0.0\\nsamples = 3\\nvalue = [0, 0, 3]'),\n",
       " Text(0.2597402597402597, 0.6764705882352942, 'x[5] <= 2.5\\ngini = 0.219\\nsamples = 40\\nvalue = [35, 0, 5]'),\n",
       " Text(0.23376623376623376, 0.6176470588235294, 'x[5] <= 1.5\\ngini = 0.278\\nsamples = 30\\nvalue = [25, 0, 5]'),\n",
       " Text(0.2077922077922078, 0.5588235294117647, 'gini = 0.0\\nsamples = 9\\nvalue = [9, 0, 0]'),\n",
       " Text(0.2597402597402597, 0.5588235294117647, 'x[0] <= 2.5\\ngini = 0.363\\nsamples = 21\\nvalue = [16, 0, 5]'),\n",
       " Text(0.23376623376623376, 0.5, 'gini = 0.0\\nsamples = 5\\nvalue = [5, 0, 0]'),\n",
       " Text(0.2857142857142857, 0.5, 'x[3] <= 3.5\\ngini = 0.43\\nsamples = 16\\nvalue = [11, 0, 5]'),\n",
       " Text(0.23376623376623376, 0.4411764705882353, 'x[0] <= 3.5\\ngini = 0.375\\nsamples = 8\\nvalue = [6, 0, 2]'),\n",
       " Text(0.2077922077922078, 0.38235294117647056, 'gini = 0.0\\nsamples = 2\\nvalue = [2, 0, 0]'),\n",
       " Text(0.2597402597402597, 0.38235294117647056, 'gini = 0.444\\nsamples = 6\\nvalue = [4, 0, 2]'),\n",
       " Text(0.33766233766233766, 0.4411764705882353, 'x[0] <= 3.5\\ngini = 0.469\\nsamples = 8\\nvalue = [5, 0, 3]'),\n",
       " Text(0.3116883116883117, 0.38235294117647056, 'gini = 0.49\\nsamples = 7\\nvalue = [4, 0, 3]'),\n",
       " Text(0.36363636363636365, 0.38235294117647056, 'gini = 0.0\\nsamples = 1\\nvalue = [1, 0, 0]'),\n",
       " Text(0.2857142857142857, 0.6176470588235294, 'gini = 0.0\\nsamples = 10\\nvalue = [10, 0, 0]'),\n",
       " Text(0.6623376623376623, 0.7352941176470589, 'x[3] <= 2.0\\ngini = 0.484\\nsamples = 197\\nvalue = [81, 0, 116]'),\n",
       " Text(0.6103896103896104, 0.6764705882352942, 'x[4] <= 3.5\\ngini = 0.499\\nsamples = 163\\nvalue = [78, 0, 85]'),\n",
       " Text(0.5844155844155844, 0.6176470588235294, 'gini = 0.0\\nsamples = 14\\nvalue = [0, 0, 14]'),\n",
       " Text(0.6363636363636364, 0.6176470588235294, 'x[0] <= 3.5\\ngini = 0.499\\nsamples = 149\\nvalue = [78, 0, 71]'),\n",
       " Text(0.5194805194805194, 0.5588235294117647, 'x[2] <= 4.0\\ngini = 0.467\\nsamples = 97\\nvalue = [61, 0, 36]'),\n",
       " Text(0.4935064935064935, 0.5, 'gini = 0.0\\nsamples = 3\\nvalue = [0, 0, 3]'),\n",
       " Text(0.5454545454545454, 0.5, 'x[1] <= 2.5\\ngini = 0.456\\nsamples = 94\\nvalue = [61, 0, 33]'),\n",
       " Text(0.5194805194805194, 0.4411764705882353, 'x[5] <= 1.5\\ngini = 0.447\\nsamples = 92\\nvalue = [61, 0, 31]'),\n",
       " Text(0.4155844155844156, 0.38235294117647056, 'x[0] <= 2.5\\ngini = 0.444\\nsamples = 6\\nvalue = [2, 0, 4]'),\n",
       " Text(0.38961038961038963, 0.3235294117647059, 'gini = 0.0\\nsamples = 4\\nvalue = [0, 0, 4]'),\n",
       " Text(0.44155844155844154, 0.3235294117647059, 'gini = 0.0\\nsamples = 2\\nvalue = [2, 0, 0]'),\n",
       " Text(0.6233766233766234, 0.38235294117647056, 'x[0] <= 2.5\\ngini = 0.431\\nsamples = 86\\nvalue = [59, 0, 27]'),\n",
       " Text(0.4935064935064935, 0.3235294117647059, 'x[2] <= 13.0\\ngini = 0.34\\nsamples = 46\\nvalue = [36, 0, 10]'),\n",
       " Text(0.4675324675324675, 0.2647058823529412, 'x[2] <= 8.5\\ngini = 0.415\\nsamples = 34\\nvalue = [24, 0, 10]'),\n",
       " Text(0.44155844155844154, 0.20588235294117646, 'gini = 0.0\\nsamples = 4\\nvalue = [4, 0, 0]'),\n",
       " Text(0.4935064935064935, 0.20588235294117646, 'x[0] <= 1.5\\ngini = 0.444\\nsamples = 30\\nvalue = [20, 0, 10]'),\n",
       " Text(0.4675324675324675, 0.14705882352941177, 'gini = 0.0\\nsamples = 2\\nvalue = [2, 0, 0]'),\n",
       " Text(0.5194805194805194, 0.14705882352941177, 'x[1] <= 1.5\\ngini = 0.459\\nsamples = 28\\nvalue = [18, 0, 10]'),\n",
       " Text(0.4675324675324675, 0.08823529411764706, 'x[5] <= 2.5\\ngini = 0.469\\nsamples = 24\\nvalue = [15, 0, 9]'),\n",
       " Text(0.44155844155844154, 0.029411764705882353, 'gini = 0.494\\nsamples = 9\\nvalue = [5, 0, 4]'),\n",
       " Text(0.4935064935064935, 0.029411764705882353, 'gini = 0.444\\nsamples = 15\\nvalue = [10, 0, 5]'),\n",
       " Text(0.5714285714285714, 0.08823529411764706, 'x[5] <= 2.5\\ngini = 0.375\\nsamples = 4\\nvalue = [3, 0, 1]'),\n",
       " Text(0.5454545454545454, 0.029411764705882353, 'gini = 0.0\\nsamples = 3\\nvalue = [3, 0, 0]'),\n",
       " Text(0.5974025974025974, 0.029411764705882353, 'gini = 0.0\\nsamples = 1\\nvalue = [0, 0, 1]'),\n",
       " Text(0.5194805194805194, 0.2647058823529412, 'gini = 0.0\\nsamples = 12\\nvalue = [12, 0, 0]'),\n",
       " Text(0.7532467532467533, 0.3235294117647059, 'x[2] <= 14.5\\ngini = 0.489\\nsamples = 40\\nvalue = [23, 0, 17]'),\n",
       " Text(0.7012987012987013, 0.2647058823529412, 'x[2] <= 10.5\\ngini = 0.43\\nsamples = 32\\nvalue = [22, 0, 10]'),\n",
       " Text(0.6753246753246753, 0.20588235294117646, 'x[1] <= 1.5\\ngini = 0.459\\nsamples = 28\\nvalue = [18, 0, 10]'),\n",
       " Text(0.6493506493506493, 0.14705882352941177, 'x[5] <= 2.5\\ngini = 0.444\\nsamples = 24\\nvalue = [16, 0, 8]'),\n",
       " Text(0.6233766233766234, 0.08823529411764706, 'gini = 0.444\\nsamples = 6\\nvalue = [4, 0, 2]'),\n",
       " Text(0.6753246753246753, 0.08823529411764706, 'gini = 0.444\\nsamples = 18\\nvalue = [12, 0, 6]'),\n",
       " Text(0.7012987012987013, 0.14705882352941177, 'gini = 0.5\\nsamples = 4\\nvalue = [2, 0, 2]'),\n",
       " Text(0.7272727272727273, 0.20588235294117646, 'gini = 0.0\\nsamples = 4\\nvalue = [4, 0, 0]'),\n",
       " Text(0.8051948051948052, 0.2647058823529412, 'x[2] <= 17.0\\ngini = 0.219\\nsamples = 8\\nvalue = [1, 0, 7]'),\n",
       " Text(0.7792207792207793, 0.20588235294117646, 'gini = 0.0\\nsamples = 7\\nvalue = [0, 0, 7]'),\n",
       " Text(0.8311688311688312, 0.20588235294117646, 'gini = 0.0\\nsamples = 1\\nvalue = [1, 0, 0]'),\n",
       " Text(0.5714285714285714, 0.4411764705882353, 'gini = 0.0\\nsamples = 2\\nvalue = [0, 0, 2]'),\n",
       " Text(0.7532467532467533, 0.5588235294117647, 'x[2] <= 11.5\\ngini = 0.44\\nsamples = 52\\nvalue = [17, 0, 35]'),\n",
       " Text(0.7272727272727273, 0.5, 'x[5] <= 2.5\\ngini = 0.482\\nsamples = 42\\nvalue = [17, 0, 25]'),\n",
       " Text(0.7012987012987013, 0.4411764705882353, 'x[5] <= 1.5\\ngini = 0.499\\nsamples = 27\\nvalue = [13, 0, 14]'),\n",
       " Text(0.6753246753246753, 0.38235294117647056, 'gini = 0.486\\nsamples = 12\\nvalue = [5, 0, 7]'),\n",
       " Text(0.7272727272727273, 0.38235294117647056, 'gini = 0.498\\nsamples = 15\\nvalue = [8, 0, 7]'),\n",
       " Text(0.7532467532467533, 0.4411764705882353, 'gini = 0.391\\nsamples = 15\\nvalue = [4, 0, 11]'),\n",
       " Text(0.7792207792207793, 0.5, 'gini = 0.0\\nsamples = 10\\nvalue = [0, 0, 10]'),\n",
       " Text(0.7142857142857143, 0.6764705882352942, 'x[5] <= 1.5\\ngini = 0.161\\nsamples = 34\\nvalue = [3, 0, 31]'),\n",
       " Text(0.6883116883116883, 0.6176470588235294, 'gini = 0.0\\nsamples = 3\\nvalue = [3, 0, 0]'),\n",
       " Text(0.7402597402597403, 0.6176470588235294, 'gini = 0.0\\nsamples = 31\\nvalue = [0, 0, 31]'),\n",
       " Text(0.8961038961038961, 0.7941176470588235, 'x[3] <= 3.5\\ngini = 0.266\\nsamples = 76\\nvalue = [64, 0, 12]'),\n",
       " Text(0.8441558441558441, 0.7352941176470589, 'x[5] <= 4.5\\ngini = 0.185\\nsamples = 68\\nvalue = [61, 0, 7]'),\n",
       " Text(0.8181818181818182, 0.6764705882352942, 'x[4] <= 3.5\\ngini = 0.258\\nsamples = 46\\nvalue = [39, 0, 7]'),\n",
       " Text(0.7922077922077922, 0.6176470588235294, 'gini = 0.49\\nsamples = 7\\nvalue = [4, 0, 3]'),\n",
       " Text(0.8441558441558441, 0.6176470588235294, 'x[0] <= 2.5\\ngini = 0.184\\nsamples = 39\\nvalue = [35, 0, 4]'),\n",
       " Text(0.8181818181818182, 0.5588235294117647, 'gini = 0.0\\nsamples = 12\\nvalue = [12, 0, 0]'),\n",
       " Text(0.8701298701298701, 0.5588235294117647, 'x[0] <= 3.5\\ngini = 0.252\\nsamples = 27\\nvalue = [23, 0, 4]'),\n",
       " Text(0.8441558441558441, 0.5, 'x[2] <= 12.0\\ngini = 0.36\\nsamples = 17\\nvalue = [13, 0, 4]'),\n",
       " Text(0.8181818181818182, 0.4411764705882353, 'gini = 0.391\\nsamples = 15\\nvalue = [11, 0, 4]'),\n",
       " Text(0.8701298701298701, 0.4411764705882353, 'gini = 0.0\\nsamples = 2\\nvalue = [2, 0, 0]'),\n",
       " Text(0.8961038961038961, 0.5, 'gini = 0.0\\nsamples = 10\\nvalue = [10, 0, 0]'),\n",
       " Text(0.8701298701298701, 0.6764705882352942, 'gini = 0.0\\nsamples = 22\\nvalue = [22, 0, 0]'),\n",
       " Text(0.948051948051948, 0.7352941176470589, 'x[0] <= 3.5\\ngini = 0.469\\nsamples = 8\\nvalue = [3, 0, 5]'),\n",
       " Text(0.922077922077922, 0.6764705882352942, 'gini = 0.0\\nsamples = 3\\nvalue = [3, 0, 0]'),\n",
       " Text(0.974025974025974, 0.6764705882352942, 'gini = 0.0\\nsamples = 5\\nvalue = [0, 0, 5]'),\n",
       " Text(0.7175324675324676, 0.8529411764705882, 'gini = 0.0\\nsamples = 62\\nvalue = [0, 0, 62]')]"
      ]
     },
     "execution_count": 41,
     "metadata": {},
     "output_type": "execute_result"
    },
    {
     "data": {
      "image/png": "[encoded data removed]",
      "text/plain": [
       "<Figure size 640x480 with 1 Axes>"
      ]
     },
     "metadata": {},
     "output_type": "display_data"
    }
   ],
   "source": [
    "# create a decision tree\n",
    "model = tree.DecisionTreeClassifier()\n",
    "model.fit(train_calc.drop('pathology', axis=1), train_calc['pathology'])\n",
    "tree.plot_tree(model)"
   ]
  },
  {
   "cell_type": "code",
   "execution_count": 35,
   "metadata": {},
   "outputs": [
    {
     "data": {
      "text/plain": [
       "0.9059500959692899"
      ]
     },
     "execution_count": 35,
     "metadata": {},
     "output_type": "execute_result"
    }
   ],
   "source": [
    "# test the model\n",
    "model.score(train_calc.drop('pathology', axis=1), train_calc['pathology'])\n"
   ]
  },
  {
   "cell_type": "code",
   "execution_count": 36,
   "metadata": {},
   "outputs": [
    {
     "data": {
      "text/plain": [
       "0.916030534351145"
      ]
     },
     "execution_count": 36,
     "metadata": {},
     "output_type": "execute_result"
    }
   ],
   "source": [
    "model.score(test_calc.drop('pathology', axis=1), test_calc['pathology'])"
   ]
  },
  {
   "cell_type": "code",
   "execution_count": 42,
   "metadata": {},
   "outputs": [
    {
     "data": {
      "text/plain": [
       "array([2, 2, 0, 0, 1, 0, 2, 2, 2, 2, 0, 0, 2, 2, 0, 1, 0, 0, 2, 1, 2, 2,\n",
       "       0, 0, 2, 0, 0, 2, 0, 0, 2, 0, 0, 0, 1, 2, 0, 2, 0, 1, 0, 1, 0, 0,\n",
       "       0, 1, 0, 0, 0, 1, 2, 2, 0, 2, 0, 0, 2, 2, 0, 0, 2, 0, 0, 2, 1, 0,\n",
       "       0, 0, 0, 2, 0, 0, 2, 0, 1, 1, 1, 1, 1, 2, 0, 0, 0, 2, 0, 2, 1, 0,\n",
       "       0, 0, 0, 2, 1, 0, 0, 0, 0, 2, 0, 2, 1, 0, 1, 0, 0, 1, 2, 2, 0, 2,\n",
       "       0, 0, 2, 2, 2, 0, 2, 0, 0, 2, 1, 0, 0, 0, 0, 1, 2, 0, 0, 1, 1])"
      ]
     },
     "execution_count": 42,
     "metadata": {},
     "output_type": "execute_result"
    }
   ],
   "source": [
    "# test prediction\n",
    "model.predict(test_calc.drop('pathology', axis=1))"
   ]
  },
  {
   "cell_type": "code",
   "execution_count": 43,
   "metadata": {},
   "outputs": [
    {
     "data": {
      "text/plain": [
       "array([2, 2, 0, 0, 1, 0, 2, 2, 2, 2, 0, 0, 0, 2, 0, 1, 0, 2, 2, 1, 2, 2,\n",
       "       0, 0, 2, 0, 2, 2, 0, 0, 2, 0, 0, 0, 1, 2, 0, 2, 0, 1, 2, 1, 0, 0,\n",
       "       0, 1, 2, 0, 0, 1, 2, 2, 0, 2, 0, 0, 2, 2, 0, 0, 2, 0, 0, 2, 1, 0,\n",
       "       0, 0, 0, 2, 0, 0, 2, 0, 1, 1, 1, 1, 1, 2, 0, 0, 2, 2, 0, 2, 1, 0,\n",
       "       0, 0, 0, 2, 1, 0, 2, 0, 0, 2, 0, 2, 1, 0, 1, 0, 0, 1, 2, 2, 0, 2,\n",
       "       2, 0, 2, 2, 2, 0, 2, 0, 0, 2, 1, 0, 0, 2, 2, 1, 2, 2, 0, 1, 1])"
      ]
     },
     "execution_count": 43,
     "metadata": {},
     "output_type": "execute_result"
    }
   ],
   "source": [
    "# convert column to array\n",
    "test_calc['pathology'].to_numpy()\n"
   ]
  },
  {
   "cell_type": "code",
   "execution_count": 50,
   "metadata": {},
   "outputs": [
    {
     "data": {
      "text/plain": [
       "array([ 0,  0,  0,  0,  0,  0,  0,  0,  0,  0,  0,  0, -2,  0,  0,  0,  0,\n",
       "        2,  0,  0,  0,  0,  0,  0,  0,  0,  2,  0,  0,  0,  0,  0,  0,  0,\n",
       "        0,  0,  0,  0,  0,  0,  2,  0,  0,  0,  0,  0,  2,  0,  0,  0,  0,\n",
       "        0,  0,  0,  0,  0,  0,  0,  0,  0,  0,  0,  0,  0,  0,  0,  0,  0,\n",
       "        0,  0,  0,  0,  0,  0,  0,  0,  0,  0,  0,  0,  0,  0,  2,  0,  0,\n",
       "        0,  0,  0,  0,  0,  0,  0,  0,  0,  2,  0,  0,  0,  0,  0,  0,  0,\n",
       "        0,  0,  0,  0,  0,  0,  0,  0,  2,  0,  0,  0,  0,  0,  0,  0,  0,\n",
       "        0,  0,  0,  0,  2,  2,  0,  0,  2,  0,  0,  0])"
      ]
     },
     "execution_count": 50,
     "metadata": {},
     "output_type": "execute_result"
    }
   ],
   "source": [
    "# diff\n",
    "test_calc['pathology'].to_numpy() - model.predict(test_calc.drop('pathology', axis=1))"
   ]
  },
  {
   "cell_type": "code",
   "execution_count": 21,
   "metadata": {},
   "outputs": [
    {
     "data": {
      "text/plain": [
       "0.8778625954198473"
      ]
     },
     "execution_count": 21,
     "metadata": {},
     "output_type": "execute_result"
    }
   ],
   "source": [
    "# test how the subtlety column affects the model\n",
    "model2 = tree.DecisionTreeClassifier()\n",
    "model2.fit(train_calc.drop(['pathology', 'subtlety'], axis=1), train_calc['pathology'])\n",
    "model2.score(test_calc.drop(['pathology', 'subtlety'], axis=1), test_calc['pathology'])"
   ]
  },
  {
   "cell_type": "code",
   "execution_count": 46,
   "metadata": {},
   "outputs": [
    {
     "data": {
      "text/plain": [
       "0.9389312977099237"
      ]
     },
     "execution_count": 46,
     "metadata": {},
     "output_type": "execute_result"
    }
   ],
   "source": [
    "# target column: assessment, remove pathology\n",
    "model3 = tree.DecisionTreeClassifier()\n",
    "model3.fit(train_calc.drop(['pathology', 'overall BI-RADS assessment'], axis=1), train_calc['overall BI-RADS assessment'])\n",
    "model3.score(test_calc.drop(['pathology', 'overall BI-RADS assessment'], axis=1), test_calc['overall BI-RADS assessment'])"
   ]
  },
  {
   "cell_type": "code",
   "execution_count": 51,
   "metadata": {},
   "outputs": [
    {
     "data": {
      "text/plain": [
       "[Text(0.7370867768595041, 0.9545454545454546, 'x[3] <= 4.5\\ngini = 0.642\\nsamples = 521\\nvalue = [20, 118, 43, 278, 62]'),\n",
       " Text(0.5733471074380165, 0.8636363636363636, 'x[4] <= 4.5\\ngini = 0.5\\nsamples = 358\\nvalue = [16, 7, 40, 244, 51]'),\n",
       " Text(0.36983471074380164, 0.7727272727272727, 'x[2] <= 8.5\\ngini = 0.406\\nsamples = 301\\nvalue = [16, 3, 34, 228, 20]'),\n",
       " Text(0.2066115702479339, 0.6818181818181818, 'x[4] <= 3.5\\ngini = 0.693\\nsamples = 78\\nvalue = [7, 3, 17, 36, 15]'),\n",
       " Text(0.11570247933884298, 0.5909090909090909, 'x[2] <= 2.5\\ngini = 0.594\\nsamples = 62\\nvalue = [6, 1, 17, 35, 3]'),\n",
       " Text(0.08264462809917356, 0.5, 'x[0] <= 2.5\\ngini = 0.453\\nsamples = 38\\nvalue = [6, 0, 5, 27, 0]'),\n",
       " Text(0.06611570247933884, 0.4090909090909091, 'x[1] <= 1.5\\ngini = 0.654\\nsamples = 19\\nvalue = [6, 0, 5, 8, 0]'),\n",
       " Text(0.049586776859504134, 0.3181818181818182, 'x[4] <= 2.5\\ngini = 0.664\\nsamples = 16\\nvalue = [6, 0, 5, 5, 0]'),\n",
       " Text(0.03305785123966942, 0.22727272727272727, 'x[0] <= 1.5\\ngini = 0.494\\nsamples = 9\\nvalue = [4, 0, 0, 5, 0]'),\n",
       " Text(0.01652892561983471, 0.13636363636363635, 'gini = 0.0\\nsamples = 3\\nvalue = [0, 0, 0, 3, 0]'),\n",
       " Text(0.049586776859504134, 0.13636363636363635, 'gini = 0.444\\nsamples = 6\\nvalue = [4, 0, 0, 2, 0]'),\n",
       " Text(0.06611570247933884, 0.22727272727272727, 'gini = 0.408\\nsamples = 7\\nvalue = [2, 0, 5, 0, 0]'),\n",
       " Text(0.08264462809917356, 0.3181818181818182, 'gini = 0.0\\nsamples = 3\\nvalue = [0, 0, 0, 3, 0]'),\n",
       " Text(0.09917355371900827, 0.4090909090909091, 'gini = 0.0\\nsamples = 19\\nvalue = [0, 0, 0, 19, 0]'),\n",
       " Text(0.1487603305785124, 0.5, 'x[4] <= 2.5\\ngini = 0.622\\nsamples = 24\\nvalue = [0, 1, 12, 8, 3]'),\n",
       " Text(0.1322314049586777, 0.4090909090909091, 'gini = 0.0\\nsamples = 4\\nvalue = [0, 0, 4, 0, 0]'),\n",
       " Text(0.1652892561983471, 0.4090909090909091, 'x[3] <= 0.5\\ngini = 0.655\\nsamples = 20\\nvalue = [0, 1, 8, 8, 3]'),\n",
       " Text(0.1322314049586777, 0.3181818181818182, 'x[2] <= 5.5\\ngini = 0.32\\nsamples = 5\\nvalue = [0, 1, 4, 0, 0]'),\n",
       " Text(0.11570247933884298, 0.22727272727272727, 'gini = 0.0\\nsamples = 1\\nvalue = [0, 1, 0, 0, 0]'),\n",
       " Text(0.1487603305785124, 0.22727272727272727, 'gini = 0.0\\nsamples = 4\\nvalue = [0, 0, 4, 0, 0]'),\n",
       " Text(0.19834710743801653, 0.3181818181818182, 'x[3] <= 2.0\\ngini = 0.604\\nsamples = 15\\nvalue = [0, 0, 4, 8, 3]'),\n",
       " Text(0.18181818181818182, 0.22727272727272727, 'gini = 0.0\\nsamples = 4\\nvalue = [0, 0, 0, 4, 0]'),\n",
       " Text(0.21487603305785125, 0.22727272727272727, 'x[0] <= 2.5\\ngini = 0.661\\nsamples = 11\\nvalue = [0, 0, 4, 4, 3]'),\n",
       " Text(0.19834710743801653, 0.13636363636363635, 'gini = 0.0\\nsamples = 4\\nvalue = [0, 0, 4, 0, 0]'),\n",
       " Text(0.23140495867768596, 0.13636363636363635, 'gini = 0.49\\nsamples = 7\\nvalue = [0, 0, 0, 4, 3]'),\n",
       " Text(0.2975206611570248, 0.5909090909090909, 'x[2] <= 5.5\\ngini = 0.414\\nsamples = 16\\nvalue = [1, 2, 0, 1, 12]'),\n",
       " Text(0.2644628099173554, 0.5, 'x[2] <= 2.0\\ngini = 0.64\\nsamples = 5\\nvalue = [0, 2, 0, 1, 2]'),\n",
       " Text(0.24793388429752067, 0.4090909090909091, 'x[1] <= 1.5\\ngini = 0.444\\nsamples = 3\\nvalue = [0, 0, 0, 1, 2]'),\n",
       " Text(0.23140495867768596, 0.3181818181818182, 'gini = 0.0\\nsamples = 2\\nvalue = [0, 0, 0, 0, 2]'),\n",
       " Text(0.2644628099173554, 0.3181818181818182, 'gini = 0.0\\nsamples = 1\\nvalue = [0, 0, 0, 1, 0]'),\n",
       " Text(0.2809917355371901, 0.4090909090909091, 'gini = 0.0\\nsamples = 2\\nvalue = [0, 2, 0, 0, 0]'),\n",
       " Text(0.3305785123966942, 0.5, 'x[0] <= 2.5\\ngini = 0.165\\nsamples = 11\\nvalue = [1, 0, 0, 0, 10]'),\n",
       " Text(0.3140495867768595, 0.4090909090909091, 'x[1] <= 1.5\\ngini = 0.32\\nsamples = 5\\nvalue = [1, 0, 0, 0, 4]'),\n",
       " Text(0.2975206611570248, 0.3181818181818182, 'gini = 0.0\\nsamples = 1\\nvalue = [1, 0, 0, 0, 0]'),\n",
       " Text(0.3305785123966942, 0.3181818181818182, 'gini = 0.0\\nsamples = 4\\nvalue = [0, 0, 0, 0, 4]'),\n",
       " Text(0.34710743801652894, 0.4090909090909091, 'gini = 0.0\\nsamples = 6\\nvalue = [0, 0, 0, 0, 6]'),\n",
       " Text(0.5330578512396694, 0.6818181818181818, 'x[2] <= 11.5\\ngini = 0.251\\nsamples = 223\\nvalue = [9, 0, 17, 192, 5]'),\n",
       " Text(0.4462809917355372, 0.5909090909090909, 'x[4] <= 3.5\\ngini = 0.158\\nsamples = 167\\nvalue = [4, 0, 7, 153, 3]'),\n",
       " Text(0.39669421487603307, 0.5, 'x[4] <= 2.5\\ngini = 0.064\\nsamples = 121\\nvalue = [4, 0, 0, 117, 0]'),\n",
       " Text(0.38016528925619836, 0.4090909090909091, 'gini = 0.0\\nsamples = 63\\nvalue = [0, 0, 0, 63, 0]'),\n",
       " Text(0.4132231404958678, 0.4090909090909091, 'x[0] <= 2.5\\ngini = 0.128\\nsamples = 58\\nvalue = [4, 0, 0, 54, 0]'),\n",
       " Text(0.39669421487603307, 0.3181818181818182, 'gini = 0.0\\nsamples = 16\\nvalue = [0, 0, 0, 16, 0]'),\n",
       " Text(0.4297520661157025, 0.3181818181818182, 'x[0] <= 3.5\\ngini = 0.172\\nsamples = 42\\nvalue = [4, 0, 0, 38, 0]'),\n",
       " Text(0.4132231404958678, 0.22727272727272727, 'x[3] <= 1.5\\ngini = 0.252\\nsamples = 27\\nvalue = [4, 0, 0, 23, 0]'),\n",
       " Text(0.39669421487603307, 0.13636363636363635, 'x[2] <= 10.5\\ngini = 0.287\\nsamples = 23\\nvalue = [4, 0, 0, 19, 0]'),\n",
       " Text(0.38016528925619836, 0.045454545454545456, 'gini = 0.298\\nsamples = 22\\nvalue = [4, 0, 0, 18, 0]'),\n",
       " Text(0.4132231404958678, 0.045454545454545456, 'gini = 0.0\\nsamples = 1\\nvalue = [0, 0, 0, 1, 0]'),\n",
       " Text(0.4297520661157025, 0.13636363636363635, 'gini = 0.0\\nsamples = 4\\nvalue = [0, 0, 0, 4, 0]'),\n",
       " Text(0.4462809917355372, 0.22727272727272727, 'gini = 0.0\\nsamples = 15\\nvalue = [0, 0, 0, 15, 0]'),\n",
       " Text(0.49586776859504134, 0.5, 'x[0] <= 2.5\\ngini = 0.36\\nsamples = 46\\nvalue = [0, 0, 7, 36, 3]'),\n",
       " Text(0.4793388429752066, 0.4090909090909091, 'x[0] <= 1.5\\ngini = 0.594\\nsamples = 21\\nvalue = [0, 0, 7, 11, 3]'),\n",
       " Text(0.4628099173553719, 0.3181818181818182, 'gini = 0.0\\nsamples = 7\\nvalue = [0, 0, 0, 7, 0]'),\n",
       " Text(0.49586776859504134, 0.3181818181818182, 'gini = 0.622\\nsamples = 14\\nvalue = [0, 0, 7, 4, 3]'),\n",
       " Text(0.512396694214876, 0.4090909090909091, 'gini = 0.0\\nsamples = 25\\nvalue = [0, 0, 0, 25, 0]'),\n",
       " Text(0.6198347107438017, 0.5909090909090909, 'x[2] <= 13.5\\ngini = 0.474\\nsamples = 56\\nvalue = [5, 0, 10, 39, 2]'),\n",
       " Text(0.5867768595041323, 0.5, 'x[1] <= 1.5\\ngini = 0.656\\nsamples = 29\\nvalue = [5, 0, 8, 14, 2]'),\n",
       " Text(0.5702479338842975, 0.4090909090909091, 'x[0] <= 2.5\\ngini = 0.63\\nsamples = 26\\nvalue = [5, 0, 5, 14, 2]'),\n",
       " Text(0.5289256198347108, 0.3181818181818182, 'x[2] <= 12.5\\ngini = 0.593\\nsamples = 9\\nvalue = [0, 0, 5, 2, 2]'),\n",
       " Text(0.512396694214876, 0.22727272727272727, 'gini = 0.5\\nsamples = 4\\nvalue = [0, 0, 0, 2, 2]'),\n",
       " Text(0.5454545454545454, 0.22727272727272727, 'gini = 0.0\\nsamples = 5\\nvalue = [0, 0, 5, 0, 0]'),\n",
       " Text(0.6115702479338843, 0.3181818181818182, 'x[4] <= 2.5\\ngini = 0.415\\nsamples = 17\\nvalue = [5, 0, 0, 12, 0]'),\n",
       " Text(0.5785123966942148, 0.22727272727272727, 'x[4] <= 1.5\\ngini = 0.278\\nsamples = 12\\nvalue = [2, 0, 0, 10, 0]'),\n",
       " Text(0.5619834710743802, 0.13636363636363635, 'gini = 0.0\\nsamples = 4\\nvalue = [0, 0, 0, 4, 0]'),\n",
       " Text(0.5950413223140496, 0.13636363636363635, 'gini = 0.375\\nsamples = 8\\nvalue = [2, 0, 0, 6, 0]'),\n",
       " Text(0.6446280991735537, 0.22727272727272727, 'x[0] <= 3.5\\ngini = 0.48\\nsamples = 5\\nvalue = [3, 0, 0, 2, 0]'),\n",
       " Text(0.628099173553719, 0.13636363636363635, 'gini = 0.0\\nsamples = 2\\nvalue = [0, 0, 0, 2, 0]'),\n",
       " Text(0.6611570247933884, 0.13636363636363635, 'gini = 0.0\\nsamples = 3\\nvalue = [3, 0, 0, 0, 0]'),\n",
       " Text(0.6033057851239669, 0.4090909090909091, 'gini = 0.0\\nsamples = 3\\nvalue = [0, 0, 3, 0, 0]'),\n",
       " Text(0.6528925619834711, 0.5, 'x[0] <= 3.5\\ngini = 0.137\\nsamples = 27\\nvalue = [0, 0, 2, 25, 0]'),\n",
       " Text(0.6363636363636364, 0.4090909090909091, 'gini = 0.0\\nsamples = 25\\nvalue = [0, 0, 0, 25, 0]'),\n",
       " Text(0.6694214876033058, 0.4090909090909091, 'gini = 0.0\\nsamples = 2\\nvalue = [0, 0, 2, 0, 0]'),\n",
       " Text(0.7768595041322314, 0.7727272727272727, 'x[3] <= 0.5\\ngini = 0.609\\nsamples = 57\\nvalue = [0, 4, 6, 16, 31]'),\n",
       " Text(0.7355371900826446, 0.6818181818181818, 'x[0] <= 2.5\\ngini = 0.612\\nsamples = 41\\nvalue = [0, 0, 6, 16, 19]'),\n",
       " Text(0.7024793388429752, 0.5909090909090909, 'x[2] <= 5.0\\ngini = 0.601\\nsamples = 24\\nvalue = [0, 0, 6, 13, 5]'),\n",
       " Text(0.6859504132231405, 0.5, 'gini = 0.0\\nsamples = 3\\nvalue = [0, 0, 0, 0, 3]'),\n",
       " Text(0.71900826446281, 0.5, 'x[1] <= 2.5\\ngini = 0.526\\nsamples = 21\\nvalue = [0, 0, 6, 13, 2]'),\n",
       " Text(0.7024793388429752, 0.4090909090909091, 'x[0] <= 1.5\\ngini = 0.476\\nsamples = 19\\nvalue = [0, 0, 4, 13, 2]'),\n",
       " Text(0.6859504132231405, 0.3181818181818182, 'gini = 0.0\\nsamples = 4\\nvalue = [0, 0, 0, 4, 0]'),\n",
       " Text(0.71900826446281, 0.3181818181818182, 'x[1] <= 1.5\\ngini = 0.551\\nsamples = 15\\nvalue = [0, 0, 4, 9, 2]'),\n",
       " Text(0.7024793388429752, 0.22727272727272727, 'gini = 0.571\\nsamples = 14\\nvalue = [0, 0, 4, 8, 2]'),\n",
       " Text(0.7355371900826446, 0.22727272727272727, 'gini = 0.0\\nsamples = 1\\nvalue = [0, 0, 0, 1, 0]'),\n",
       " Text(0.7355371900826446, 0.4090909090909091, 'gini = 0.0\\nsamples = 2\\nvalue = [0, 0, 2, 0, 0]'),\n",
       " Text(0.768595041322314, 0.5909090909090909, 'x[0] <= 3.5\\ngini = 0.291\\nsamples = 17\\nvalue = [0, 0, 0, 3, 14]'),\n",
       " Text(0.7520661157024794, 0.5, 'gini = 0.0\\nsamples = 14\\nvalue = [0, 0, 0, 0, 14]'),\n",
       " Text(0.7851239669421488, 0.5, 'gini = 0.0\\nsamples = 3\\nvalue = [0, 0, 0, 3, 0]'),\n",
       " Text(0.8181818181818182, 0.6818181818181818, 'x[2] <= 9.5\\ngini = 0.375\\nsamples = 16\\nvalue = [0, 4, 0, 0, 12]'),\n",
       " Text(0.8016528925619835, 0.5909090909090909, 'gini = 0.5\\nsamples = 8\\nvalue = [0, 4, 0, 0, 4]'),\n",
       " Text(0.8347107438016529, 0.5909090909090909, 'gini = 0.0\\nsamples = 8\\nvalue = [0, 0, 0, 0, 8]'),\n",
       " Text(0.9008264462809917, 0.8636363636363636, 'x[3] <= 5.5\\ngini = 0.487\\nsamples = 163\\nvalue = [4, 111, 3, 34, 11]'),\n",
       " Text(0.8842975206611571, 0.7727272727272727, 'gini = 0.0\\nsamples = 104\\nvalue = [0, 104, 0, 0, 0]'),\n",
       " Text(0.9173553719008265, 0.7727272727272727, 'x[4] <= 4.5\\ngini = 0.612\\nsamples = 59\\nvalue = [4, 7, 3, 34, 11]'),\n",
       " Text(0.9008264462809917, 0.6818181818181818, 'x[0] <= 2.5\\ngini = 0.524\\nsamples = 51\\nvalue = [4, 7, 3, 34, 3]'),\n",
       " Text(0.8677685950413223, 0.5909090909090909, 'x[2] <= 5.0\\ngini = 0.594\\nsamples = 8\\nvalue = [4, 0, 3, 0, 1]'),\n",
       " Text(0.8512396694214877, 0.5, 'x[4] <= 2.0\\ngini = 0.375\\nsamples = 4\\nvalue = [0, 0, 3, 0, 1]'),\n",
       " Text(0.8347107438016529, 0.4090909090909091, 'gini = 0.0\\nsamples = 3\\nvalue = [0, 0, 3, 0, 0]'),\n",
       " Text(0.8677685950413223, 0.4090909090909091, 'gini = 0.0\\nsamples = 1\\nvalue = [0, 0, 0, 0, 1]'),\n",
       " Text(0.8842975206611571, 0.5, 'gini = 0.0\\nsamples = 4\\nvalue = [4, 0, 0, 0, 0]'),\n",
       " Text(0.9338842975206612, 0.5909090909090909, 'x[2] <= 11.5\\ngini = 0.346\\nsamples = 43\\nvalue = [0, 7, 0, 34, 2]'),\n",
       " Text(0.9173553719008265, 0.5, 'x[0] <= 3.5\\ngini = 0.265\\nsamples = 40\\nvalue = [0, 4, 0, 34, 2]'),\n",
       " Text(0.9008264462809917, 0.4090909090909091, 'gini = 0.0\\nsamples = 18\\nvalue = [0, 0, 0, 18, 0]'),\n",
       " Text(0.9338842975206612, 0.4090909090909091, 'x[2] <= 3.5\\ngini = 0.43\\nsamples = 22\\nvalue = [0, 4, 0, 16, 2]'),\n",
       " Text(0.9008264462809917, 0.3181818181818182, 'x[3] <= 6.5\\ngini = 0.463\\nsamples = 11\\nvalue = [0, 4, 0, 7, 0]'),\n",
       " Text(0.8842975206611571, 0.22727272727272727, 'gini = 0.0\\nsamples = 2\\nvalue = [0, 0, 0, 2, 0]'),\n",
       " Text(0.9173553719008265, 0.22727272727272727, 'x[4] <= 2.5\\ngini = 0.494\\nsamples = 9\\nvalue = [0, 4, 0, 5, 0]'),\n",
       " Text(0.9008264462809917, 0.13636363636363635, 'gini = 0.0\\nsamples = 1\\nvalue = [0, 0, 0, 1, 0]'),\n",
       " Text(0.9338842975206612, 0.13636363636363635, 'gini = 0.5\\nsamples = 8\\nvalue = [0, 4, 0, 4, 0]'),\n",
       " Text(0.9669421487603306, 0.3181818181818182, 'x[2] <= 8.5\\ngini = 0.298\\nsamples = 11\\nvalue = [0, 0, 0, 9, 2]'),\n",
       " Text(0.9504132231404959, 0.22727272727272727, 'gini = 0.48\\nsamples = 5\\nvalue = [0, 0, 0, 3, 2]'),\n",
       " Text(0.9834710743801653, 0.22727272727272727, 'gini = 0.0\\nsamples = 6\\nvalue = [0, 0, 0, 6, 0]'),\n",
       " Text(0.9504132231404959, 0.5, 'gini = 0.0\\nsamples = 3\\nvalue = [0, 3, 0, 0, 0]'),\n",
       " Text(0.9338842975206612, 0.6818181818181818, 'gini = 0.0\\nsamples = 8\\nvalue = [0, 0, 0, 0, 8]')]"
      ]
     },
     "execution_count": 51,
     "metadata": {},
     "output_type": "execute_result"
    },
    {
     "data": {
      "image/png": "[encoded data removed]",
      "text/plain": [
       "<Figure size 640x480 with 1 Axes>"
      ]
     },
     "metadata": {},
     "output_type": "display_data"
    }
   ],
   "source": [
    "tree.plot_tree(model3)"
   ]
  },
  {
   "cell_type": "code",
   "execution_count": 47,
   "metadata": {},
   "outputs": [
    {
     "data": {
      "text/plain": [
       "array([3, 4, 0, 4, 2, 4, 5, 4, 4, 5, 4, 4, 4, 5, 4, 2, 3, 4, 4, 2, 4, 4,\n",
       "       4, 4, 5, 4, 4, 4, 4, 4, 4, 4, 4, 4, 2, 5, 4, 5, 4, 2, 4, 2, 4, 4,\n",
       "       3, 2, 3, 4, 4, 2, 0, 5, 4, 0, 4, 4, 4, 0, 4, 3, 5, 4, 4, 4, 2, 4,\n",
       "       4, 4, 4, 5, 4, 4, 4, 2, 2, 2, 2, 2, 2, 4, 4, 4, 4, 5, 4, 3, 2, 0,\n",
       "       4, 4, 4, 4, 2, 4, 4, 4, 0, 5, 4, 3, 2, 4, 2, 4, 4, 2, 4, 5, 4, 3,\n",
       "       4, 4, 4, 4, 5, 4, 4, 4, 4, 5, 2, 4, 4, 4, 4, 2, 4, 4, 4, 2, 2],\n",
       "      dtype=int64)"
      ]
     },
     "execution_count": 47,
     "metadata": {},
     "output_type": "execute_result"
    }
   ],
   "source": [
    "model3.predict(test_calc.drop(['pathology', 'overall BI-RADS assessment'], axis=1))"
   ]
  },
  {
   "cell_type": "code",
   "execution_count": 48,
   "metadata": {},
   "outputs": [
    {
     "data": {
      "text/plain": [
       "array([3, 4, 4, 4, 2, 4, 5, 4, 4, 5, 4, 4, 4, 5, 4, 2, 0, 4, 5, 2, 4, 4,\n",
       "       4, 4, 5, 4, 4, 4, 4, 4, 4, 4, 4, 4, 2, 5, 4, 5, 4, 2, 4, 2, 4, 4,\n",
       "       3, 2, 3, 4, 4, 2, 0, 5, 4, 0, 4, 4, 4, 0, 4, 0, 5, 4, 4, 5, 2, 4,\n",
       "       4, 4, 4, 5, 4, 4, 4, 2, 2, 2, 2, 2, 2, 4, 4, 4, 4, 5, 4, 3, 2, 4,\n",
       "       4, 4, 4, 4, 2, 4, 4, 4, 0, 5, 4, 3, 2, 4, 2, 4, 4, 2, 4, 5, 4, 5,\n",
       "       4, 4, 4, 5, 5, 4, 4, 4, 4, 5, 2, 4, 4, 4, 4, 2, 4, 4, 4, 2, 2],\n",
       "      dtype=int64)"
      ]
     },
     "execution_count": 48,
     "metadata": {},
     "output_type": "execute_result"
    }
   ],
   "source": [
    "# compare the prediction with the actual value\n",
    "test_calc['overall BI-RADS assessment'].to_numpy()"
   ]
  },
  {
   "cell_type": "code",
   "execution_count": 49,
   "metadata": {},
   "outputs": [
    {
     "data": {
      "text/plain": [
       "array([ 0,  0,  4,  0,  0,  0,  0,  0,  0,  0,  0,  0,  0,  0,  0,  0, -3,\n",
       "        0,  1,  0,  0,  0,  0,  0,  0,  0,  0,  0,  0,  0,  0,  0,  0,  0,\n",
       "        0,  0,  0,  0,  0,  0,  0,  0,  0,  0,  0,  0,  0,  0,  0,  0,  0,\n",
       "        0,  0,  0,  0,  0,  0,  0,  0, -3,  0,  0,  0,  1,  0,  0,  0,  0,\n",
       "        0,  0,  0,  0,  0,  0,  0,  0,  0,  0,  0,  0,  0,  0,  0,  0,  0,\n",
       "        0,  0,  4,  0,  0,  0,  0,  0,  0,  0,  0,  0,  0,  0,  0,  0,  0,\n",
       "        0,  0,  0,  0,  0,  0,  0,  2,  0,  0,  0,  1,  0,  0,  0,  0,  0,\n",
       "        0,  0,  0,  0,  0,  0,  0,  0,  0,  0,  0,  0], dtype=int64)"
      ]
     },
     "execution_count": 49,
     "metadata": {},
     "output_type": "execute_result"
    }
   ],
   "source": [
    "# diff\n",
    "test_calc['overall BI-RADS assessment'].to_numpy() - model3.predict(test_calc.drop(['pathology', 'overall BI-RADS assessment'], axis=1))"
   ]
  },
  {
   "attachments": {},
   "cell_type": "markdown",
   "metadata": {},
   "source": [
    "# Data Analysation"
   ]
  },
  {
   "cell_type": "code",
   "execution_count": null,
   "metadata": {},
   "outputs": [],
   "source": []
  },
  {
   "attachments": {},
   "cell_type": "markdown",
   "metadata": {},
   "source": [
    "# DATASETS & DATALOADERS"
   ]
  },
  {
   "cell_type": "code",
   "execution_count": 9,
   "metadata": {},
   "outputs": [],
   "source": [
    "# dataset and dataloader for calcification dataset\n",
    "class BreastCancerDatasetCalc(Dataset):\n",
    "    def __init__(self, df):\n",
    "        self.data = df\n",
    "        \n",
    "    def __len__(self):\n",
    "        return len(self.data)\n",
    "    \n",
    "    def __getitem__(self, idx):\n",
    "        row = self.data.iloc[idx]\n",
    "        \n",
    "        features = torch.tensor([row['breast_density'], row['number_of_abnormality'],\n",
    "                                row['calcification_type'], row['calcification_distribution'],\n",
    "                                row['subtlety_rating']])\n",
    "        overall_BI_RADS_assessment = torch.tensor(row['overall_BI-RADS_assessment'])\n",
    "        pathology = torch.tensor(row['pathology'])\n",
    "        \n",
    "        return features, overall_BI_RADS_assessment, pathology\n",
    "\n",
    "train_calc_dataset = BreastCancerDatasetCalc(train_calc)\n",
    "test_calc_dataset = BreastCancerDatasetCalc(test_calc)\n",
    "\n",
    "train_calc_loader = DataLoader(train_calc_dataset, batch_size=32, shuffle=True)\n",
    "test_calc_loader = DataLoader(test_calc_dataset, batch_size=32, shuffle=False)"
   ]
  },
  {
   "cell_type": "code",
   "execution_count": 10,
   "metadata": {},
   "outputs": [],
   "source": [
    "# dataset and dataloader for mass dataset\n",
    "class BreastCancerDatasetMass(Dataset):\n",
    "    def __init__(self, df):\n",
    "        self.data = df\n",
    "        \n",
    "    def __len__(self):\n",
    "        return len(self.data)\n",
    "    \n",
    "    def __getitem__(self, idx):\n",
    "        row = self.data.iloc[idx]\n",
    "        \n",
    "        features = torch.tensor([row['breast_density'], row['number_of_abnormality'],\n",
    "                                row['mass_shape'], row['mass_margins'],\n",
    "                                row['subtlety_rating']])\n",
    "        overall_BI_RADS_assessment = torch.tensor(row['overall_BI-RADS_assessment'])\n",
    "        pathology = torch.tensor(row['pathology'])\n",
    "        \n",
    "        return features, overall_BI_RADS_assessment, pathology\n",
    "\n",
    "train_mass_dataset = BreastCancerDatasetMass(train_mass)\n",
    "test_mass_dataset = BreastCancerDatasetMass(test_mass)\n",
    "\n",
    "train_mass_loader = DataLoader(train_mass_dataset, batch_size=32, shuffle=True)\n",
    "test_mass_loader = DataLoader(test_mass_dataset, batch_size=32, shuffle=False)"
   ]
  },
  {
   "attachments": {},
   "cell_type": "markdown",
   "metadata": {},
   "source": [
    "# Transforms"
   ]
  },
  {
   "cell_type": "code",
   "execution_count": 11,
   "metadata": {},
   "outputs": [],
   "source": [
    "# Create a custom transform function to add random noise to the features\n",
    "class AddRandomNoise(object):\n",
    "    def __init__(self, noise_std=0.1):\n",
    "        self.noise_std = noise_std\n",
    "\n",
    "    def __call__(self, features):\n",
    "        noise = torch.tensor(np.random.normal(0, self.noise_std, features.shape), dtype=torch.float32)\n",
    "        noisy_features = features + noise\n",
    "        return noisy_features"
   ]
  },
  {
   "cell_type": "code",
   "execution_count": 12,
   "metadata": {},
   "outputs": [],
   "source": [
    "# Update the BreastCancerDatasetCalc class to accept multiple transforms\n",
    "class BreastCancerDatasetCalc(Dataset):\n",
    "    def __init__(self, df, transforms=None):\n",
    "        self.data = df\n",
    "        self.transforms = transforms\n",
    "        \n",
    "    def __len__(self):\n",
    "        return len(self.data)\n",
    "    \n",
    "    def __getitem__(self, idx):\n",
    "        row = self.data.iloc[idx]\n",
    "        \n",
    "        features = torch.tensor([row['breast_density'], row['number_of_abnormality'],\n",
    "                                row['calcification_type'], row['calcification_distribution'],\n",
    "                                row['subtlety_rating']])\n",
    "        \n",
    "        if self.transforms:\n",
    "            for transform in self.transforms:\n",
    "                features = transform(features)\n",
    "        \n",
    "        overall_BI_RADS_assessment = torch.tensor(row['overall_BI-RADS_assessment'])\n",
    "        pathology = torch.tensor(row['pathology'])\n",
    "        \n",
    "        return features, overall_BI_RADS_assessment, pathology"
   ]
  },
  {
   "cell_type": "code",
   "execution_count": 13,
   "metadata": {},
   "outputs": [],
   "source": [
    "# Update the BreastCancerDatasetMass class to accept multiple transforms\n",
    "class BreastCancerDatasetMass(Dataset):\n",
    "    def __init__(self, df, transforms=None):\n",
    "        self.data = df\n",
    "        self.transforms = transforms\n",
    "        \n",
    "    def __len__(self):\n",
    "        return len(self.data)\n",
    "    \n",
    "    def __getitem__(self, idx):\n",
    "        row = self.data.iloc[idx]\n",
    "        \n",
    "        features = torch.tensor([row['breast_density'], row['number_of_abnormality'],\n",
    "                                row['mass_shape'], row['mass_margins'],\n",
    "                                row['subtlety_rating']])\n",
    "        \n",
    "        if self.transforms:\n",
    "            for transform in self.transforms:\n",
    "                features = transform(features)\n",
    "        \n",
    "        overall_BI_RADS_assessment = torch.tensor(row['overall_BI-RADS_assessment'])\n",
    "        pathology = torch.tensor(row['pathology'])\n",
    "        \n",
    "        return features, overall_BI_RADS_assessment, pathology"
   ]
  },
  {
   "cell_type": "code",
   "execution_count": 14,
   "metadata": {},
   "outputs": [],
   "source": [
    "# Create instances of NormalizeFeatures and AddRandomNoise, then pass them to the dataset\n",
    "class NormalizeFeatures(object):\n",
    "    def __init__(self, mean, std):\n",
    "        self.mean = mean\n",
    "        self.std = std\n",
    "\n",
    "    def __call__(self, features):\n",
    "        normalized_features = (features - self.mean) / self.std\n",
    "        return normalized_features"
   ]
  },
  {
   "cell_type": "code",
   "execution_count": 15,
   "metadata": {},
   "outputs": [],
   "source": [
    "normalize_transform = NormalizeFeatures(mean_calc, std_calc)\n",
    "noise_transform = AddRandomNoise(noise_std=0.1)\n",
    "\n",
    "train_calc_dataset = BreastCancerDatasetCalc(train_calc, transforms=[normalize_transform, noise_transform])\n",
    "test_calc_dataset = BreastCancerDatasetCalc(test_calc, transforms=[normalize_transform]) # Do not apply noise to test data\n",
    "\n",
    "train_calc_loader = DataLoader(train_calc_dataset, batch_size=32, shuffle=True)\n",
    "test_calc_loader = DataLoader(test_calc_dataset, batch_size=32, shuffle=False)"
   ]
  },
  {
   "cell_type": "code",
   "execution_count": 16,
   "metadata": {},
   "outputs": [],
   "source": [
    "normalize_transform = NormalizeFeatures(mean_mass, std_mass)\n",
    "noise_transform = AddRandomNoise(noise_std=0.1)\n",
    "\n",
    "train_mass_dataset = BreastCancerDatasetCalc(train_mass, transforms=[normalize_transform, noise_transform])\n",
    "test_mass_dataset = BreastCancerDatasetCalc(test_mass, transforms=[normalize_transform]) # Do not apply noise to test data\n",
    "\n",
    "train_mass_loader = DataLoader(train_mass_dataset, batch_size=32, shuffle=True)\n",
    "test_mass_loader = DataLoader(test_mass_dataset, batch_size=32, shuffle=False)"
   ]
  },
  {
   "cell_type": "code",
   "execution_count": null,
   "metadata": {},
   "outputs": [],
   "source": []
  }
 ],
 "metadata": {
  "kernelspec": {
   "display_name": "Python 3",
   "language": "python",
   "name": "python3"
  },
  "language_info": {
   "codemirror_mode": {
    "name": "ipython",
    "version": 3
   },
   "file_extension": ".py",
   "mimetype": "text/x-python",
   "name": "python",
   "nbconvert_exporter": "python",
   "pygments_lexer": "ipython3",
   "version": "3.9.13"
  },
  "orig_nbformat": 4,
  "vscode": {
   "interpreter": {
    "hash": "11938c6bc6919ae2720b4d5011047913343b08a43b18698fd82dedb0d4417594"
   }
  }
 },
 "nbformat": 4,
 "nbformat_minor": 2
}
